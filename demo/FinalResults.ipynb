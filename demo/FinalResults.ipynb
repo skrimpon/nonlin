{
  "nbformat": 4,
  "nbformat_minor": 0,
  "metadata": {
    "colab": {
      "name": "FinalResults.ipynb",
      "provenance": [],
      "collapsed_sections": []
    },
    "kernelspec": {
      "name": "python3",
      "display_name": "Python 3"
    },
    "language_info": {
      "name": "python"
    },
    "accelerator": "GPU"
  },
  "cells": [
    {
      "cell_type": "markdown",
      "metadata": {
        "id": "oCfvhuJQo2D1"
      },
      "source": [
        "# **Leveraging Deep Learning Methods for Function Inverse Problems in Communication Systems**\n",
        "---\n",
        "Panagiotis Skrimponis and Mustafa F. Ozkoc\n",
        "\n",
        "\n",
        "---\n",
        "\n",
        "\n"
      ]
    },
    {
      "cell_type": "markdown",
      "metadata": {
        "id": "OQxaq4AmpEJi"
      },
      "source": [
        "## **Our training Recipe:**\n",
        "\n",
        "Our training methodology is inspired from transfer learning. The idea is we would like to create a model, irrespective of snr learns the intrinsic porperties of the system. Finally using this base model, we would like to train multiple models for each target SNR value. This way, we achieve the best possible performance for each SNR target. The details of the training procedure is explained on our **Project Report**.\n",
        "\n",
        "Our training methodology can be summarized as below:\n",
        "\n",
        "\n",
        "1.   **General Training**:\n",
        "  1.   We train our model with all SNR inputs seperately. The dataset fed to the network in decreasing order of SNRs i.e., we train our network 10 epochs with highest SNR value, then 10 epochs followed by second highest SNR value, until we go over all specific SNR values.\n",
        "  2.   We repeat Step 1.1, for 5 times. So our network is trained 50 epochs over the entire dataset.\n",
        "2.   **Optimized training**:\n",
        "  1.   Now that we trained our model in general dataset, we further optimize different models for each SNR value, that is for every target SNR input value, we pick the best performing model from **1.General Training**.\n",
        "  2.   We train this optimal model, using only the SNR values in the vicinity of this target SNR value. i.e., for SNR value of 18, we train using SNR values \\{16,17,18,19,20\\}.\n",
        "  3.  Finally, among those further trained models, we find the best model for each target SNR value.\n",
        "\n",
        "\n",
        "## **Our dataset**\n",
        "\n",
        "We use 200,000 samples for our training and testing. We seperate 160,000 samples for our training, the rest 40,000 samples are reserved only for testing purposes. \n",
        "\n",
        "\n",
        "\n",
        "\n",
        "\n",
        "\n",
        "\n"
      ]
    },
    {
      "cell_type": "markdown",
      "metadata": {
        "id": "Z6VUYYtGtrlE"
      },
      "source": [
        "## **What is in this notebook ?**\n",
        "We provide this notebook as a demo and a way to reproduce our results, once the already **trained models are given**. This script is not to train the models. The training procedure takes about 20 hours on a GPU with cuda score of 7.5."
      ]
    },
    {
      "cell_type": "markdown",
      "metadata": {
        "id": "Im_xE1NXuMMZ"
      },
      "source": [
        "# **Reproducing Our Results**"
      ]
    },
    {
      "cell_type": "code",
      "metadata": {
        "id": "C00LuLpLwVDm"
      },
      "source": [
        "import os\n",
        "import numpy as np\n",
        "import tensorflow as tf\n",
        "import matplotlib.pyplot as plt\n",
        "import pandas as pd\n",
        "\n",
        "nit = 5  # num of iterations\n",
        "nrx = 16  # num of receiver antennas\n",
        "nsnr = 22  # num of snr points\n",
        "nx = 10000  # num of tx samples\n"
      ],
      "execution_count": 1,
      "outputs": []
    },
    {
      "cell_type": "markdown",
      "metadata": {
        "id": "0GzaL5JcwOQM"
      },
      "source": [
        "## Downloading the testing dataset"
      ]
    },
    {
      "cell_type": "code",
      "metadata": {
        "colab": {
          "base_uri": "https://localhost:8080/"
        },
        "id": "gSncio0owNjf",
        "outputId": "bf7ed4a4-4cce-4448-cc77-4c9aa99f9314"
      },
      "source": [
        "!mkdir -p DATASET\n",
        "!gdown --id 1epi51J7CD8NtwOUQt5zmhUhR1xj3km8T  -O ./DATASET/dataset_17.csv\n",
        "!gdown --id 1pE99dA24UVtLlsU2AqnXb9vOFXa8J2bP  -O ./DATASET/dataset_18.csv\n",
        "!gdown --id 1l77fsHGSHaLt2cke5510rkSBwqDZYTTu  -O ./DATASET/dataset_19.csv\n",
        "!gdown --id 1ABZkKXj9_NPVmF6huB5Vc44qQ7OKVCRG  -O ./DATASET/dataset_20.csv\n",
        "file_path = os.path.join(os.getcwd(),'DATASET')"
      ],
      "execution_count": 2,
      "outputs": [
        {
          "output_type": "stream",
          "text": [
            "Downloading...\n",
            "From: https://drive.google.com/uc?id=1epi51J7CD8NtwOUQt5zmhUhR1xj3km8T\n",
            "To: /content/DATASET/dataset_17.csv\n",
            "303MB [00:01, 185MB/s]\n",
            "Downloading...\n",
            "From: https://drive.google.com/uc?id=1pE99dA24UVtLlsU2AqnXb9vOFXa8J2bP\n",
            "To: /content/DATASET/dataset_18.csv\n",
            "303MB [00:01, 165MB/s]\n",
            "Downloading...\n",
            "From: https://drive.google.com/uc?id=1l77fsHGSHaLt2cke5510rkSBwqDZYTTu\n",
            "To: /content/DATASET/dataset_19.csv\n",
            "303MB [00:01, 183MB/s]\n",
            "Downloading...\n",
            "From: https://drive.google.com/uc?id=1ABZkKXj9_NPVmF6huB5Vc44qQ7OKVCRG\n",
            "To: /content/DATASET/dataset_20.csv\n",
            "303MB [00:07, 40.3MB/s]\n"
          ],
          "name": "stdout"
        }
      ]
    },
    {
      "cell_type": "markdown",
      "metadata": {
        "id": "AbvQn2uH6hiG"
      },
      "source": [
        "## Downloading the pre-trained models"
      ]
    },
    {
      "cell_type": "code",
      "metadata": {
        "colab": {
          "base_uri": "https://localhost:8080/"
        },
        "id": "KhpAbLO-6k0s",
        "outputId": "7ed86906-bbfa-476d-b103-29e6529c33c4"
      },
      "source": [
        "!mkdir -p MODELS\n",
        "!gdown --id 1J0IiFKHFiW60TbDgq73Iy3GuhGwB1QIz -O MODELS.zip\n",
        "!unzip -d MODELS -oq MODELS.zip\n",
        "models_folder = os.path.join(os.getcwd(),'MODELS')"
      ],
      "execution_count": 3,
      "outputs": [
        {
          "output_type": "stream",
          "text": [
            "Downloading...\n",
            "From: https://drive.google.com/uc?id=1J0IiFKHFiW60TbDgq73Iy3GuhGwB1QIz\n",
            "To: /content/MODELS.zip\n",
            "116MB [00:03, 32.9MB/s]\n"
          ],
          "name": "stdout"
        }
      ]
    },
    {
      "cell_type": "markdown",
      "metadata": {
        "id": "AV8bbScnzlNY"
      },
      "source": [
        "## Parsing the testing dataset"
      ]
    },
    {
      "cell_type": "code",
      "metadata": {
        "id": "6_BYe3ItxevQ"
      },
      "source": [
        "def parse_file(it,file_path):\n",
        "    data_path = os.path.join(file_path,'dataset_{}.csv'.format(str(it+1)))\n",
        "    df = pd.read_csv(data_path)\n",
        "    x = np.char.replace(np.array(df['x'], dtype=str), 'i', 'j').astype(np.complex)\n",
        "    w = np.array([np.char.replace(np.array(df['w_' + str(i + 1)], dtype=str), 'i', 'j').astype(np.complex)\n",
        "                  for i in range(nrx)], dtype=complex)\n",
        "    y_ant = np.array([\n",
        "        np.char.replace(np.array(df['yant_' + str(isnr * nrx + irx + 1)], dtype=str), 'i', 'j').astype(np.complex)\n",
        "        for isnr in range(nsnr) for irx in range(nrx)\n",
        "    ], dtype=complex).T.reshape(nx, nsnr, nrx)\n",
        "    y_rffe = np.array([\n",
        "        np.char.replace(np.array(df['yrffe_' + str(isnr * nrx + irx + 1)], dtype=str), 'i', 'j').astype(np.complex)\n",
        "        for isnr in range(nsnr) for irx in range(nrx)\n",
        "    ], dtype=complex).T.reshape(nx, nsnr, nrx)\n",
        "    pwr_out = np.array([\n",
        "        np.char.replace(np.array(df['pwrOut_' + str(isnr * nrx + irx + 1)], dtype=str), 'i', 'j').astype(np.float)\n",
        "        for isnr in range(nsnr) for irx in range(nrx)\n",
        "    ], dtype=float).T.reshape(nx, nsnr, nrx)\n",
        "    return [x, w, y_ant, y_rffe, pwr_out]\n",
        "\n",
        "\n",
        "def parse_multiple_files(it_list,file_path):\n",
        "    uu=[parse_file(_,file_path) for _ in it_list]\n",
        "    x       = np.concatenate([i[0] for i in uu],axis=0)\n",
        "    w       = np.concatenate([i[1] for i in uu],axis=1)\n",
        "    y_ant   = np.concatenate([i[2] for i in uu],axis=0)\n",
        "    y_rffe  = np.concatenate([i[3] for i in uu], axis=0)\n",
        "    pwr_out  = np.concatenate([i[4] for i in uu], axis=0)\n",
        "    print('Testing on {} samples'.format(y_rffe.shape[0]))\n",
        "    return [x, w, y_ant, y_rffe, pwr_out]"
      ],
      "execution_count": 4,
      "outputs": []
    },
    {
      "cell_type": "code",
      "metadata": {
        "colab": {
          "base_uri": "https://localhost:8080/"
        },
        "id": "j4nNYTI30LCb",
        "outputId": "51dafad2-8a00-4a7d-870d-96bd80249e23"
      },
      "source": [
        "#Load test data\n",
        "it_list_test = [16,17,18,19]\n",
        "[x_test, w_test, y_ant_test, y_rffe_test, pwr_out_test] = parse_multiple_files(it_list_test,file_path)"
      ],
      "execution_count": 5,
      "outputs": [
        {
          "output_type": "stream",
          "text": [
            "Testing on 40000 samples\n"
          ],
          "name": "stdout"
        }
      ]
    },
    {
      "cell_type": "markdown",
      "metadata": {
        "id": "HS80FLHg9bGq"
      },
      "source": [
        "## Defining the evaluation metric\n",
        "In communication systems signal to noise ratio (SNR) is a widely used metric, which directly related to the capacity of the wireless channel.\n",
        "Capacity is given as:\n",
        "$$C = log_2(1+SNR) \\text{ bits/per channel use}$$\n",
        "\n",
        "Thus, we use output SNR values as our success metric. "
      ]
    },
    {
      "cell_type": "code",
      "metadata": {
        "id": "lx8_k_nL9atw"
      },
      "source": [
        "def snr(Phi, x, w):\n",
        "    xh = sum(Phi.T * np.conj(w), 0) / np.sum(np.abs(w) ** 2, 0)\n",
        "    a = np.mean(np.conj(xh) * x) / np.mean(np.abs(x) ** 2)\n",
        "    d_var = np.mean(np.abs(xh - a * x) ** 2)\n",
        "    snr_out = 10 * np.log10(np.abs(a) ** 2 / d_var)\n",
        "    return snr_out"
      ],
      "execution_count": 6,
      "outputs": []
    },
    {
      "cell_type": "markdown",
      "metadata": {
        "id": "xyeosRJY-Cd6"
      },
      "source": [
        "## Evaluating our model on testing data"
      ]
    },
    {
      "cell_type": "code",
      "metadata": {
        "id": "WLIf1nwu-BGp"
      },
      "source": [
        "\n",
        "def test(y_rffe, pwr_out, x, w, models_folder):\n",
        "    pin = np.array((\n",
        "        -91.5771, -81.5771, -71.5771, -61.5771, -51.5771,\n",
        "        -41.5771, -31.5771, -29.5771, -27.5771, -25.5771,\n",
        "        -23.5771, -21.5771, -19.5771, -17.5771, -15.5771,\n",
        "        -13.5771, -11.5771, -9.5771, -7.5771, -5.5771,\n",
        "        -3.5771, -1.5771))\n",
        "\n",
        "    pred_snr = np.zeros(nsnr)\n",
        "    base_snr = np.zeros(nsnr)\n",
        "    for isnr in range(nsnr):\n",
        "        X = np.hstack((y_rffe[:, isnr, :].real, y_rffe[:, isnr, :].imag))\n",
        "        X_min = np.min(X)\n",
        "        X_max = np.max(X)\n",
        "        X -= X_min\n",
        "        X /= (X_max - X_min)\n",
        "        X = np.hstack((X, 10 ** (0.1 * (pwr_out[:, isnr, :] - 30))))\n",
        "        model_path = os.path.join(models_folder,'snr_{}'.format(isnr))\n",
        "        snr_model = tf.keras.models.load_model(model_path)\n",
        "\n",
        "        pred = snr_model(X).numpy()\n",
        "        pred *= (X_max - X_min)\n",
        "        pred += X_min\n",
        "        pred = pred[:, :16] + 1j * pred[:, 16:]\n",
        "        \n",
        "        pred_snr[isnr] = snr(pred, x, w)\n",
        "        base_snr[isnr] = snr(y_rffe[:, isnr, :], x, w)\n",
        "\n",
        "    plt.figure()\n",
        "    plt.title('Comparison of Baseline Method with our DNN approach')\n",
        "    plt.plot(pin, base_snr, 'bs')\n",
        "    plt.plot(pin, pred_snr, 'rd')\n",
        "    plt.grid()\n",
        "    plt.xlabel('Receive power per antenna [dBm]')\n",
        "    plt.ylabel('Output SNR $\\;(\\gamma_\\mathrm{out})\\;$ [dB]')\n",
        "    plt.legend(['Reference', 'DNN'])\n",
        "    plt.show()\n",
        "    return pred_snr,base_snr"
      ],
      "execution_count": 7,
      "outputs": []
    },
    {
      "cell_type": "code",
      "metadata": {
        "colab": {
          "base_uri": "https://localhost:8080/",
          "height": 295
        },
        "id": "VQuVGSmw-OsY",
        "outputId": "43ce343e-2d81-44f2-e74c-83ffbd0f1eeb"
      },
      "source": [
        "pred_snr,base_snr= test(y_rffe_test, pwr_out_test, x_test, w_test, models_folder)"
      ],
      "execution_count": 8,
      "outputs": [
        {
          "output_type": "display_data",
          "data": {
            "image/png": "[encoded data removed]",
            "text/plain": [
              "<Figure size 432x288 with 1 Axes>"
            ]
          },
          "metadata": {
            "tags": [],
            "needs_background": "light"
          }
        }
      ]
    }
  ]
}