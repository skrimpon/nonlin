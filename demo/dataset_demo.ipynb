{
 "cells": [
  {
   "cell_type": "markdown",
   "metadata": {
    "pycharm": {
     "name": "#%% md\n"
    }
   },
   "source": [
    "# Symbol-level simulation\n",
    "Let's first consider a simple symbol-level simulation. We consider a single-input\n",
    "multiple-output (SIMO) system. First, we generate the transmit symbols\n",
    "$$\\mathbf{x}$$ based on i.i.d complex Gaussian distribution with zero mean and variance 1.\n",
    "Then, we consider a single path channel $\\mathbf{w}$ with i.i.d uniform phase in\n",
    "$[0,2\\pi]$. For the receiver, we consider $n_\\mathrm{rx}=16$ receive antennas.\n",
    "For each design option $\\theta$ we create a different radio-frequency front-end (RFFE),\n",
    "that can be described by a unique non-linear function $\\Phi_\\theta$."
   ]
  },
  {
   "cell_type": "code",
   "execution_count": 1,
   "metadata": {
    "pycharm": {
     "name": "#%% code\n"
    }
   },
   "outputs": [],
   "source": [
    "import pandas as pd\n",
    "import numpy as np\n",
    "import matplotlib.pyplot as plt\n",
    "import os\n",
    "import sys\n",
    "\n",
    "in_df = pd.read_csv(r'../datasets/rx_1/idata_1.csv')\n",
    "p0_df = pd.read_csv(r'../datasets/rx_1/param_0_1_1.csv')\n",
    "p1_df = pd.read_csv(r'../datasets/rx_1/param_1_1_1.csv')"
   ]
  },
  {
   "cell_type": "code",
   "execution_count": 2,
   "metadata": {
    "pycharm": {
     "name": "#%%\n"
    }
   },
   "outputs": [],
   "source": [
    "fc = float(p0_df['fc'])\n",
    "fs = float(p0_df['fs'])\n",
    "nit = int(p0_df['nit'])\n",
    "nrx = int(p0_df['nrx'])\n",
    "nsnr = int(p0_df['nsnr'])\n",
    "nx = int(p0_df['nx'])\n",
    "ndsgn = 4;"
   ]
  },
  {
   "cell_type": "code",
   "execution_count": 3,
   "metadata": {
    "pycharm": {
     "name": "#%%\n"
    }
   },
   "outputs": [],
   "source": [
    "# Random tx data\n",
    "x = np.char.replace(np.array(in_df['x'],dtype=str),'i','j').astype(np.complex)\n",
    "\n",
    "# Channel w\n",
    "tmp = []\n",
    "for i in range(1,nrx+1):\n",
    "  tmp.append(np.char.replace(np.array(in_df['w_'+str(i)],dtype=str),'i','j').astype(np.complex))\n",
    "\n",
    "w = np.empty([nx, nrx], dtype=complex)\n",
    "for irx in range(nrx):\n",
    "  w[:,irx] = tmp[irx]\n",
    "\n",
    "# Received data with no noise\n",
    "tmp = []\n",
    "for i in range(1,nrx+1):\n",
    "  tmp.append(np.char.replace(np.array(in_df['y_'+str(i)],dtype=str),'i','j').astype(np.complex))\n",
    "\n",
    "y = np.empty([nx, nrx], dtype=complex)\n",
    "for irx in range(nrx):\n",
    "  y[:,irx] = tmp[irx]\n",
    "\n",
    "\n",
    "# Received data at the antenna at various rx power levels\n",
    "tmp = []\n",
    "for i in range(1,nsnr*nrx+1):\n",
    "  tmp.append(np.char.replace(np.array(in_df['yant_'+str(i)],dtype=str),'i','j').astype(np.complex))\n",
    "\n",
    "r = np.empty([nx, nrx, nsnr], dtype=complex)\n",
    "for isnr in range(nsnr):\n",
    "  for irx in range(nrx):\n",
    "    r[:,irx,isnr] = tmp[isnr*nrx + irx]"
   ]
  },
  {
   "cell_type": "code",
   "execution_count": 4,
   "metadata": {
    "pycharm": {
     "name": "#%%\n"
    }
   },
   "outputs": [],
   "source": [
    "# Output of the RFFE non-linear function Phi(r)\n",
    "\n",
    "y_rffe = np.empty([nx, nrx, nsnr, ndsgn], dtype=complex)\n",
    "x_hat = np.empty([nx, nsnr, ndsgn], dtype=complex)\n",
    "\n",
    "for idsgn in range(ndsgn):\n",
    "  out_df = pd.read_csv(r'../datasets/rx_1/odata_'+str(idsgn+1)+'_1.csv')\n",
    "\n",
    "  tmp = []\n",
    "  for i in range(1,nsnr*nrx+1):\n",
    "    tmp.append(np.char.replace(np.array(out_df['yrffe_'+str(i)],dtype=str),'i','j').astype(np.complex))\n",
    "\n",
    "  for isnr in range(nsnr):\n",
    "    for irx in range(nrx):\n",
    "      y_rffe[:,irx,isnr,idsgn] = tmp[isnr*nrx + irx]\n",
    "\n",
    "  # Predicted tx data\n",
    "  tmp = []\n",
    "  for i in range(1,nsnr+1):\n",
    "    tmp.append(np.char.replace(np.array(out_df['xhat_'+str(i)],dtype=str),'i','j').astype(np.complex))\n",
    "\n",
    "  for isnr in range(nsnr):\n",
    "      x_hat[:,isnr,idsgn] = tmp[isnr]"
   ]
  },
  {
   "cell_type": "code",
   "execution_count": 60,
   "metadata": {
    "pycharm": {
     "name": "#%%\n"
    }
   },
   "outputs": [
    {
     "data": {
      "image/png": "[encoded data removed]",
      "text/plain": [
       "<Figure size 540x540 with 4 Axes>"
      ]
     },
     "metadata": {
      "needs_background": "light"
     },
     "output_type": "display_data"
    }
   ],
   "source": [
    "irx = 0\n",
    "isnr = 30\n",
    "plt.rcParams[\"figure.figsize\"] = (7.5, 7.5)\n",
    "for idsgn in range(ndsgn):\n",
    "  plt.subplot(2,2,idsgn+1)\n",
    "  plt.plot(r[:,irx,isnr].real, y_rffe[:,irx,isnr,idsgn].real, 's')\n",
    "  plt.grid()"
   ]
  },
  {
   "cell_type": "code",
   "execution_count": 183,
   "metadata": {},
   "outputs": [
    {
     "data": {
      "text/plain": [
       "(10000, 16, 31, 4)"
      ]
     },
     "execution_count": 183,
     "metadata": {},
     "output_type": "execute_result"
    }
   ],
   "source": [
    "y_rffe.shape"
   ]
  },
  {
   "cell_type": "code",
   "execution_count": 184,
   "metadata": {},
   "outputs": [
    {
     "data": {
      "text/plain": [
       "(10000, 16)"
      ]
     },
     "execution_count": 184,
     "metadata": {},
     "output_type": "execute_result"
    }
   ],
   "source": [
    "isnr = 10\n",
    "idsgn = 1\n",
    "y_itr = np.squeeze(y_rffe[:,:,isnr,idsgn])\n",
    "r_itr = r[:,:,isnr]\n",
    "y_itr.shape\n",
    "r_itr.shape"
   ]
  },
  {
   "cell_type": "code",
   "execution_count": 185,
   "metadata": {},
   "outputs": [],
   "source": [
    "import tensorflow as tf\n",
    "from tensorflow import keras\n",
    "\n",
    "# loss_val = tf.cast(tf.keras.losses.MSE(r_itr, y_itr),tf.float32)\n",
    "# print('Loss Value {}'.format(loss_val))\n",
    "# print('Mean Loss {}'.format(np.mean(loss_val)))"
   ]
  },
  {
   "cell_type": "code",
   "execution_count": 201,
   "metadata": {},
   "outputs": [],
   "source": [
    "class Inverter():\n",
    "    def __init__(self, number_of_rx):\n",
    "        self.size = number_of_rx\n",
    "        self.training = True \n",
    "        # Create a `Sequential` model and add a Dense layer as the first layer.\n",
    "        self.model = tf.keras.models.Sequential()\n",
    "        self.model.add(tf.keras.Input(shape=(self.size,) , name=\"Phi_Input\"))\n",
    "        self.model.add(tf.keras.layers.Dense(self.size*2, activation='relu', name=\"Dense_1\"))\n",
    "        self.model.add(tf.keras.layers.Dense(self.size, name=\"R_output\"))\n",
    "        self.model.compile(optimizer='sgd', loss='mean_squared_error')\n",
    "        print('The model summar: \\n {}'.format(self.model.summary()))\n",
    "\n",
    "    def predict(self, phi):\n",
    "        return self.model.predict(phi)\n",
    "\n",
    "    def fit(self, phi_tr, r_tr, phi_val, r_val, batch_size = 64, epochs=5,verbose=0):\n",
    "        self.model.fit(phi_tr, r_tr, batch_size=batch_size,epochs=epochs,validation_data=(phi_val, r_val) ,verbose=verbose)\n"
   ]
  },
  {
   "cell_type": "code",
   "execution_count": 202,
   "metadata": {},
   "outputs": [
    {
     "name": "stdout",
     "output_type": "stream",
     "text": [
      "Model: \"sequential_44\"\n",
      "_________________________________________________________________\n",
      "Layer (type)                 Output Shape              Param #   \n",
      "=================================================================\n",
      "Dense_1 (Dense)              (None, 32)                544       \n",
      "_________________________________________________________________\n",
      "R_output (Dense)             (None, 16)                528       \n",
      "=================================================================\n",
      "Total params: 1,072\n",
      "Trainable params: 1,072\n",
      "Non-trainable params: 0\n",
      "_________________________________________________________________\n",
      "The model summar: \n",
      " None\n",
      "Model: \"sequential_45\"\n",
      "_________________________________________________________________\n",
      "Layer (type)                 Output Shape              Param #   \n",
      "=================================================================\n",
      "Dense_1 (Dense)              (None, 32)                544       \n",
      "_________________________________________________________________\n",
      "R_output (Dense)             (None, 16)                528       \n",
      "=================================================================\n",
      "Total params: 1,072\n",
      "Trainable params: 1,072\n",
      "Non-trainable params: 0\n",
      "_________________________________________________________________\n",
      "The model summar: \n",
      " None\n"
     ]
    }
   ],
   "source": [
    "# Create class\n",
    "myInv_amp = Inverter(y_itr.shape[1])\n",
    "myInv_phase = Inverter(y_itr.shape[1])"
   ]
  },
  {
   "cell_type": "code",
   "execution_count": 203,
   "metadata": {},
   "outputs": [
    {
     "data": {
      "text/plain": [
       "array([[ 0.01312485+0.00591137j, -0.03260088+0.03690234j,\n",
       "        -0.02972109-0.00302277j, -0.02415562-0.04115967j,\n",
       "        -0.08682765-0.0243844j , -0.03269601-0.00114704j,\n",
       "         0.03570674+0.05329696j, -0.02096318+0.02800357j,\n",
       "        -0.04911027+0.05099002j,  0.02007129-0.02111798j,\n",
       "         0.06247738-0.00480635j,  0.02761505-0.02545828j,\n",
       "        -0.04079741+0.02889954j, -0.03800023+0.01587778j,\n",
       "         0.03189207-0.00419298j,  0.01300263-0.00308128j],\n",
       "       [-0.00456301-0.05826509j, -0.0868191 -0.00050798j,\n",
       "        -0.05241824-0.00794887j,  0.00772384+0.06944084j,\n",
       "         0.05267647-0.02170806j,  0.06595642+0.02329904j,\n",
       "        -0.01370055-0.07467655j, -0.02169121+0.06087913j,\n",
       "        -0.04287423-0.03919618j,  0.0032342 -0.04265234j,\n",
       "         0.04262974-0.05713014j,  0.05639004+0.04883357j,\n",
       "        -0.03365651-0.05425558j, -0.01429336-0.04584882j,\n",
       "        -0.01373651+0.02118902j,  0.04241338-0.00473619j],\n",
       "       [-0.00726111-0.05275457j, -0.07301712-0.01915377j,\n",
       "         0.08220121-0.01118958j, -0.04621575+0.02307253j,\n",
       "         0.05945776+0.06127382j,  0.09003114-0.02854959j,\n",
       "         0.02938397-0.03301141j, -0.02795952+0.07515234j,\n",
       "         0.09566733-0.02375412j,  0.05696922+0.01032982j,\n",
       "         0.08166156+0.06092019j,  0.02786279-0.00789293j,\n",
       "        -0.03921894-0.05751324j, -0.04343535+0.03341538j,\n",
       "         0.01077205-0.09353229j, -0.01277845-0.03903518j],\n",
       "       [ 0.01086985-0.03540283j,  0.03845042+0.02139088j,\n",
       "         0.01142766+0.01090648j,  0.01253638+0.00094681j,\n",
       "         0.00769037-0.00637241j,  0.00844279+0.04210061j,\n",
       "        -0.00797439+0.01204082j, -0.01239797+0.00877261j,\n",
       "         0.02038386+0.02306894j, -0.00840702-0.01224302j,\n",
       "         0.03011615+0.01799876j, -0.03154784-0.00125982j,\n",
       "         0.01131123+0.03219296j,  0.00248151+0.02559372j,\n",
       "        -0.0132992 +0.03964492j, -0.03439507-0.00882019j]])"
      ]
     },
     "execution_count": 203,
     "metadata": {},
     "output_type": "execute_result"
    }
   ],
   "source": [
    "y_itr[1:5,:]"
   ]
  },
  {
   "cell_type": "code",
   "execution_count": 204,
   "metadata": {},
   "outputs": [
    {
     "name": "stdout",
     "output_type": "stream",
     "text": [
      "Shape of train (9000, 16)\n",
      "Shape of test (500, 16)\n",
      "Shape of valid (500, 16)\n"
     ]
    },
    {
     "ename": "ValueError",
     "evalue": "Complex data not supported\n[[-0.0412666 +0.01238431j -0.06532157+0.05071886j  0.03542907+0.00489855j\n  ...  0.04252053+0.02760351j -0.06542837+0.04102459j\n   0.03519216-0.04604568j]\n [-0.02207827-0.0078266j  -0.02316407-0.03731146j -0.00715607+0.00989477j\n  ...  0.04993407+0.05854175j  0.00104546-0.0132661j\n   0.03671542-0.01938713j]\n [-0.03179392+0.01238533j -0.04330196+0.02218541j  0.01039555-0.02630369j\n  ...  0.02536243-0.00335426j -0.01750864+0.05168657j\n  -0.00135085-0.00328434j]\n ...\n [-0.0089808 -0.03446439j -0.04490885+0.02452841j  0.02040876+0.00662291j\n  ...  0.0098938 +0.01210916j  0.01106963+0.03354875j\n   0.00374203+0.02969456j]\n [ 0.00852569-0.01935108j  0.0840827 -0.0286016j   0.00673851+0.02525897j\n  ...  0.01159253-0.04846113j  0.01631508-0.05060832j\n  -0.0183179 +0.04879481j]\n [-0.0062521 -0.00419877j -0.0203071 -0.003403j   -0.0099921 +0.01836443j\n  ... -0.00618264-0.01074328j -0.01193833+0.01626654j\n   0.03230237-0.05724273j]]\n",
     "output_type": "error",
     "traceback": [
      "\u001b[1;31m---------------------------------------------------------------------------\u001b[0m",
      "\u001b[1;31mComplexWarning\u001b[0m                            Traceback (most recent call last)",
      "\u001b[1;32m~\\anaconda3\\envs\\tfgpu\\lib\\site-packages\\sklearn\\utils\\validation.py\u001b[0m in \u001b[0;36mcheck_array\u001b[1;34m(array, accept_sparse, accept_large_sparse, dtype, order, copy, force_all_finite, ensure_2d, allow_nd, ensure_min_samples, ensure_min_features, estimator)\u001b[0m\n\u001b[0;32m    597\u001b[0m                 \u001b[1;32melse\u001b[0m\u001b[1;33m:\u001b[0m\u001b[1;33m\u001b[0m\u001b[1;33m\u001b[0m\u001b[0m\n\u001b[1;32m--> 598\u001b[1;33m                     \u001b[0marray\u001b[0m \u001b[1;33m=\u001b[0m \u001b[0mnp\u001b[0m\u001b[1;33m.\u001b[0m\u001b[0masarray\u001b[0m\u001b[1;33m(\u001b[0m\u001b[0marray\u001b[0m\u001b[1;33m,\u001b[0m \u001b[0morder\u001b[0m\u001b[1;33m=\u001b[0m\u001b[0morder\u001b[0m\u001b[1;33m,\u001b[0m \u001b[0mdtype\u001b[0m\u001b[1;33m=\u001b[0m\u001b[0mdtype\u001b[0m\u001b[1;33m)\u001b[0m\u001b[1;33m\u001b[0m\u001b[1;33m\u001b[0m\u001b[0m\n\u001b[0m\u001b[0;32m    599\u001b[0m             \u001b[1;32mexcept\u001b[0m \u001b[0mComplexWarning\u001b[0m\u001b[1;33m:\u001b[0m\u001b[1;33m\u001b[0m\u001b[1;33m\u001b[0m\u001b[0m\n",
      "\u001b[1;32m~\\anaconda3\\envs\\tfgpu\\lib\\site-packages\\numpy\\core\\_asarray.py\u001b[0m in \u001b[0;36masarray\u001b[1;34m(a, dtype, order)\u001b[0m\n\u001b[0;32m     82\u001b[0m     \"\"\"\n\u001b[1;32m---> 83\u001b[1;33m     \u001b[1;32mreturn\u001b[0m \u001b[0marray\u001b[0m\u001b[1;33m(\u001b[0m\u001b[0ma\u001b[0m\u001b[1;33m,\u001b[0m \u001b[0mdtype\u001b[0m\u001b[1;33m,\u001b[0m \u001b[0mcopy\u001b[0m\u001b[1;33m=\u001b[0m\u001b[1;32mFalse\u001b[0m\u001b[1;33m,\u001b[0m \u001b[0morder\u001b[0m\u001b[1;33m=\u001b[0m\u001b[0morder\u001b[0m\u001b[1;33m)\u001b[0m\u001b[1;33m\u001b[0m\u001b[1;33m\u001b[0m\u001b[0m\n\u001b[0m\u001b[0;32m     84\u001b[0m \u001b[1;33m\u001b[0m\u001b[0m\n",
      "\u001b[1;31mComplexWarning\u001b[0m: Casting complex values to real discards the imaginary part",
      "\nDuring handling of the above exception, another exception occurred:\n",
      "\u001b[1;31mValueError\u001b[0m                                Traceback (most recent call last)",
      "\u001b[1;32m<ipython-input-204-e51fefad8b5b>\u001b[0m in \u001b[0;36m<module>\u001b[1;34m\u001b[0m\n\u001b[0;32m     14\u001b[0m \u001b[1;33m\u001b[0m\u001b[0m\n\u001b[0;32m     15\u001b[0m \u001b[0minput_scaler\u001b[0m \u001b[1;33m=\u001b[0m \u001b[0mStandardScaler\u001b[0m\u001b[1;33m(\u001b[0m\u001b[1;33m)\u001b[0m\u001b[1;33m\u001b[0m\u001b[1;33m\u001b[0m\u001b[0m\n\u001b[1;32m---> 16\u001b[1;33m \u001b[0minput_scaler\u001b[0m\u001b[1;33m.\u001b[0m\u001b[0mfit\u001b[0m\u001b[1;33m(\u001b[0m\u001b[0mX_train\u001b[0m\u001b[1;33m)\u001b[0m\u001b[1;33m\u001b[0m\u001b[1;33m\u001b[0m\u001b[0m\n\u001b[0m\u001b[0;32m     17\u001b[0m \u001b[1;33m\u001b[0m\u001b[0m\n\u001b[0;32m     18\u001b[0m \u001b[0moutput_scaler\u001b[0m \u001b[1;33m=\u001b[0m \u001b[0mStandardScaler\u001b[0m\u001b[1;33m(\u001b[0m\u001b[1;33m)\u001b[0m\u001b[1;33m\u001b[0m\u001b[1;33m\u001b[0m\u001b[0m\n",
      "\u001b[1;32m~\\anaconda3\\envs\\tfgpu\\lib\\site-packages\\sklearn\\preprocessing\\_data.py\u001b[0m in \u001b[0;36mfit\u001b[1;34m(self, X, y)\u001b[0m\n\u001b[0;32m    665\u001b[0m         \u001b[1;31m# Reset internal state before fitting\u001b[0m\u001b[1;33m\u001b[0m\u001b[1;33m\u001b[0m\u001b[1;33m\u001b[0m\u001b[0m\n\u001b[0;32m    666\u001b[0m         \u001b[0mself\u001b[0m\u001b[1;33m.\u001b[0m\u001b[0m_reset\u001b[0m\u001b[1;33m(\u001b[0m\u001b[1;33m)\u001b[0m\u001b[1;33m\u001b[0m\u001b[1;33m\u001b[0m\u001b[0m\n\u001b[1;32m--> 667\u001b[1;33m         \u001b[1;32mreturn\u001b[0m \u001b[0mself\u001b[0m\u001b[1;33m.\u001b[0m\u001b[0mpartial_fit\u001b[0m\u001b[1;33m(\u001b[0m\u001b[0mX\u001b[0m\u001b[1;33m,\u001b[0m \u001b[0my\u001b[0m\u001b[1;33m)\u001b[0m\u001b[1;33m\u001b[0m\u001b[1;33m\u001b[0m\u001b[0m\n\u001b[0m\u001b[0;32m    668\u001b[0m \u001b[1;33m\u001b[0m\u001b[0m\n\u001b[0;32m    669\u001b[0m     \u001b[1;32mdef\u001b[0m \u001b[0mpartial_fit\u001b[0m\u001b[1;33m(\u001b[0m\u001b[0mself\u001b[0m\u001b[1;33m,\u001b[0m \u001b[0mX\u001b[0m\u001b[1;33m,\u001b[0m \u001b[0my\u001b[0m\u001b[1;33m=\u001b[0m\u001b[1;32mNone\u001b[0m\u001b[1;33m)\u001b[0m\u001b[1;33m:\u001b[0m\u001b[1;33m\u001b[0m\u001b[1;33m\u001b[0m\u001b[0m\n",
      "\u001b[1;32m~\\anaconda3\\envs\\tfgpu\\lib\\site-packages\\sklearn\\preprocessing\\_data.py\u001b[0m in \u001b[0;36mpartial_fit\u001b[1;34m(self, X, y)\u001b[0m\n\u001b[0;32m    694\u001b[0m             \u001b[0mTransformer\u001b[0m \u001b[0minstance\u001b[0m\u001b[1;33m.\u001b[0m\u001b[1;33m\u001b[0m\u001b[1;33m\u001b[0m\u001b[0m\n\u001b[0;32m    695\u001b[0m         \"\"\"\n\u001b[1;32m--> 696\u001b[1;33m         X = self._validate_data(X, accept_sparse=('csr', 'csc'),\n\u001b[0m\u001b[0;32m    697\u001b[0m                                 \u001b[0mestimator\u001b[0m\u001b[1;33m=\u001b[0m\u001b[0mself\u001b[0m\u001b[1;33m,\u001b[0m \u001b[0mdtype\u001b[0m\u001b[1;33m=\u001b[0m\u001b[0mFLOAT_DTYPES\u001b[0m\u001b[1;33m,\u001b[0m\u001b[1;33m\u001b[0m\u001b[1;33m\u001b[0m\u001b[0m\n\u001b[0;32m    698\u001b[0m                                 force_all_finite='allow-nan')\n",
      "\u001b[1;32m~\\anaconda3\\envs\\tfgpu\\lib\\site-packages\\sklearn\\base.py\u001b[0m in \u001b[0;36m_validate_data\u001b[1;34m(self, X, y, reset, validate_separately, **check_params)\u001b[0m\n\u001b[0;32m    418\u001b[0m                     \u001b[1;34mf\"requires y to be passed, but the target y is None.\"\u001b[0m\u001b[1;33m\u001b[0m\u001b[1;33m\u001b[0m\u001b[0m\n\u001b[0;32m    419\u001b[0m                 )\n\u001b[1;32m--> 420\u001b[1;33m             \u001b[0mX\u001b[0m \u001b[1;33m=\u001b[0m \u001b[0mcheck_array\u001b[0m\u001b[1;33m(\u001b[0m\u001b[0mX\u001b[0m\u001b[1;33m,\u001b[0m \u001b[1;33m**\u001b[0m\u001b[0mcheck_params\u001b[0m\u001b[1;33m)\u001b[0m\u001b[1;33m\u001b[0m\u001b[1;33m\u001b[0m\u001b[0m\n\u001b[0m\u001b[0;32m    421\u001b[0m             \u001b[0mout\u001b[0m \u001b[1;33m=\u001b[0m \u001b[0mX\u001b[0m\u001b[1;33m\u001b[0m\u001b[1;33m\u001b[0m\u001b[0m\n\u001b[0;32m    422\u001b[0m         \u001b[1;32melse\u001b[0m\u001b[1;33m:\u001b[0m\u001b[1;33m\u001b[0m\u001b[1;33m\u001b[0m\u001b[0m\n",
      "\u001b[1;32m~\\anaconda3\\envs\\tfgpu\\lib\\site-packages\\sklearn\\utils\\validation.py\u001b[0m in \u001b[0;36minner_f\u001b[1;34m(*args, **kwargs)\u001b[0m\n\u001b[0;32m     70\u001b[0m                           FutureWarning)\n\u001b[0;32m     71\u001b[0m         \u001b[0mkwargs\u001b[0m\u001b[1;33m.\u001b[0m\u001b[0mupdate\u001b[0m\u001b[1;33m(\u001b[0m\u001b[1;33m{\u001b[0m\u001b[0mk\u001b[0m\u001b[1;33m:\u001b[0m \u001b[0marg\u001b[0m \u001b[1;32mfor\u001b[0m \u001b[0mk\u001b[0m\u001b[1;33m,\u001b[0m \u001b[0marg\u001b[0m \u001b[1;32min\u001b[0m \u001b[0mzip\u001b[0m\u001b[1;33m(\u001b[0m\u001b[0msig\u001b[0m\u001b[1;33m.\u001b[0m\u001b[0mparameters\u001b[0m\u001b[1;33m,\u001b[0m \u001b[0margs\u001b[0m\u001b[1;33m)\u001b[0m\u001b[1;33m}\u001b[0m\u001b[1;33m)\u001b[0m\u001b[1;33m\u001b[0m\u001b[1;33m\u001b[0m\u001b[0m\n\u001b[1;32m---> 72\u001b[1;33m         \u001b[1;32mreturn\u001b[0m \u001b[0mf\u001b[0m\u001b[1;33m(\u001b[0m\u001b[1;33m**\u001b[0m\u001b[0mkwargs\u001b[0m\u001b[1;33m)\u001b[0m\u001b[1;33m\u001b[0m\u001b[1;33m\u001b[0m\u001b[0m\n\u001b[0m\u001b[0;32m     73\u001b[0m     \u001b[1;32mreturn\u001b[0m \u001b[0minner_f\u001b[0m\u001b[1;33m\u001b[0m\u001b[1;33m\u001b[0m\u001b[0m\n\u001b[0;32m     74\u001b[0m \u001b[1;33m\u001b[0m\u001b[0m\n",
      "\u001b[1;32m~\\anaconda3\\envs\\tfgpu\\lib\\site-packages\\sklearn\\utils\\validation.py\u001b[0m in \u001b[0;36mcheck_array\u001b[1;34m(array, accept_sparse, accept_large_sparse, dtype, order, copy, force_all_finite, ensure_2d, allow_nd, ensure_min_samples, ensure_min_features, estimator)\u001b[0m\n\u001b[0;32m    598\u001b[0m                     \u001b[0marray\u001b[0m \u001b[1;33m=\u001b[0m \u001b[0mnp\u001b[0m\u001b[1;33m.\u001b[0m\u001b[0masarray\u001b[0m\u001b[1;33m(\u001b[0m\u001b[0marray\u001b[0m\u001b[1;33m,\u001b[0m \u001b[0morder\u001b[0m\u001b[1;33m=\u001b[0m\u001b[0morder\u001b[0m\u001b[1;33m,\u001b[0m \u001b[0mdtype\u001b[0m\u001b[1;33m=\u001b[0m\u001b[0mdtype\u001b[0m\u001b[1;33m)\u001b[0m\u001b[1;33m\u001b[0m\u001b[1;33m\u001b[0m\u001b[0m\n\u001b[0;32m    599\u001b[0m             \u001b[1;32mexcept\u001b[0m \u001b[0mComplexWarning\u001b[0m\u001b[1;33m:\u001b[0m\u001b[1;33m\u001b[0m\u001b[1;33m\u001b[0m\u001b[0m\n\u001b[1;32m--> 600\u001b[1;33m                 raise ValueError(\"Complex data not supported\\n\"\n\u001b[0m\u001b[0;32m    601\u001b[0m                                  \"{}\\n\".format(array))\n\u001b[0;32m    602\u001b[0m \u001b[1;33m\u001b[0m\u001b[0m\n",
      "\u001b[1;31mValueError\u001b[0m: Complex data not supported\n[[-0.0412666 +0.01238431j -0.06532157+0.05071886j  0.03542907+0.00489855j\n  ...  0.04252053+0.02760351j -0.06542837+0.04102459j\n   0.03519216-0.04604568j]\n [-0.02207827-0.0078266j  -0.02316407-0.03731146j -0.00715607+0.00989477j\n  ...  0.04993407+0.05854175j  0.00104546-0.0132661j\n   0.03671542-0.01938713j]\n [-0.03179392+0.01238533j -0.04330196+0.02218541j  0.01039555-0.02630369j\n  ...  0.02536243-0.00335426j -0.01750864+0.05168657j\n  -0.00135085-0.00328434j]\n ...\n [-0.0089808 -0.03446439j -0.04490885+0.02452841j  0.02040876+0.00662291j\n  ...  0.0098938 +0.01210916j  0.01106963+0.03354875j\n   0.00374203+0.02969456j]\n [ 0.00852569-0.01935108j  0.0840827 -0.0286016j   0.00673851+0.02525897j\n  ...  0.01159253-0.04846113j  0.01631508-0.05060832j\n  -0.0183179 +0.04879481j]\n [-0.0062521 -0.00419877j -0.0203071 -0.003403j   -0.0099921 +0.01836443j\n  ... -0.00618264-0.01074328j -0.01193833+0.01626654j\n   0.03230237-0.05724273j]]\n"
     ]
    }
   ],
   "source": [
    "# Normalize the input phi\n",
    "# Some issues with normalization we need to figure out\n",
    "\n",
    "#Train test split\n",
    "from sklearn.model_selection import train_test_split\n",
    "X_train, X_test, y_train, y_test = train_test_split(y_itr, r_itr, test_size=0.1)\n",
    "X_test, X_valid, y_test, y_valid = train_test_split(X_test, y_test, test_size=0.5)\n",
    "print('Shape of train {}'.format(X_train.shape))\n",
    "print('Shape of test {}'.format(X_test.shape))\n",
    "print('Shape of valid {}'.format(X_valid.shape))\n",
    "\n",
    "\n",
    "# https://scikit-learn.org/stable/auto_examples/preprocessing/plot_all_scaling.html#sphx-glr-auto-examples-preprocessing-plot-all-scaling-py\n",
    "# from sklearn.preprocessing import StandardScaler\n",
    "\n",
    "# input_scaler = StandardScaler()\n",
    "# input_scaler.fit(np.abs(X_train))\n",
    "\n",
    "# output_scaler = StandardScaler()\n",
    "# output_scaler.fit(y_train)\n",
    "\n",
    "# X_train = input_scaler.transform(X_train)\n",
    "# X_valid = input_scaler.transform(X_valid)\n",
    "# X_test = input_scaler.transform(X_test)\n",
    "\n",
    "\n",
    "# y_train = output_scaler.transform(y_train)\n",
    "# y_valid = output_scaler.transform(y_valid)\n",
    "# y_test = output_scaler.transform(y_test)\n",
    "\n",
    "\n",
    "\n",
    "\n",
    "print('Mean of the x train amp {}'.format(np.mean(X_train_amp)))\n",
    "print('Mean of the y train amp {}'.format(np.mean(y_train_amp)))\n",
    "\n",
    "\n",
    "\n",
    "# Get the amplitude and phase for models\n",
    "X_train_phase = np.angle(X_train)\n",
    "X_train_amp = np.abs(X_train)\n",
    "y_train_phase = np.angle(y_train)\n",
    "y_train_amp = np.abs(y_train)\n",
    "\n",
    "\n",
    "X_test_phase = np.angle(X_test)\n",
    "X_test_amp = np.abs(X_test)\n",
    "y_test_phase = np.angle(y_test)\n",
    "y_test_amp = np.abs(y_test)\n",
    "\n",
    "X_valid_phase = np.angle(X_valid)\n",
    "X_valid_amp = np.abs(X_valid)\n",
    "y_valid_phase = np.angle(y_valid)\n",
    "y_valid_amp = np.abs(y_valid)\n",
    "\n",
    "\n",
    "# mean_ratio = (np.mean(X_train_amp)/np.mean(y_train_amp))\n",
    "# y_train_amp *= mean_ratio\n",
    "# y_test_amp *= mean_ratio\n",
    "# y_valid_amp *= mean_ratio\n",
    "# np.mean(y_train_amp)\n",
    "\n"
   ]
  },
  {
   "cell_type": "code",
   "execution_count": 194,
   "metadata": {},
   "outputs": [
    {
     "name": "stdout",
     "output_type": "stream",
     "text": [
      "Epoch 1/100\n",
      "282/282 [==============================] - 1s 2ms/step - loss: 1.1707 - val_loss: 0.3828\n",
      "Epoch 2/100\n",
      "282/282 [==============================] - 1s 2ms/step - loss: 0.3086 - val_loss: 0.2258\n",
      "Epoch 3/100\n",
      "282/282 [==============================] - 1s 2ms/step - loss: 0.2239 - val_loss: 0.1972\n",
      "Epoch 4/100\n",
      "282/282 [==============================] - 1s 2ms/step - loss: 0.2006 - val_loss: 0.1800\n",
      "Epoch 5/100\n",
      "282/282 [==============================] - 1s 2ms/step - loss: 0.1839 - val_loss: 0.1682\n",
      "Epoch 6/100\n",
      "282/282 [==============================] - 1s 2ms/step - loss: 0.1719 - val_loss: 0.1598\n",
      "Epoch 7/100\n",
      "282/282 [==============================] - 1s 2ms/step - loss: 0.1624 - val_loss: 0.1536\n",
      "Epoch 8/100\n",
      "282/282 [==============================] - 1s 2ms/step - loss: 0.1569 - val_loss: 0.1488\n",
      "Epoch 9/100\n",
      "282/282 [==============================] - 1s 2ms/step - loss: 0.1513 - val_loss: 0.1446\n",
      "Epoch 10/100\n",
      "282/282 [==============================] - 1s 2ms/step - loss: 0.1470 - val_loss: 0.1421\n",
      "Epoch 11/100\n",
      "282/282 [==============================] - 1s 2ms/step - loss: 0.1436 - val_loss: 0.1399\n",
      "Epoch 12/100\n",
      "282/282 [==============================] - 1s 2ms/step - loss: 0.1420 - val_loss: 0.1378\n",
      "Epoch 13/100\n",
      "282/282 [==============================] - 1s 2ms/step - loss: 0.1412 - val_loss: 0.1353\n",
      "Epoch 14/100\n",
      "282/282 [==============================] - 1s 2ms/step - loss: 0.1351 - val_loss: 0.1338\n",
      "Epoch 15/100\n",
      "282/282 [==============================] - 1s 2ms/step - loss: 0.1362 - val_loss: 0.1323\n",
      "Epoch 16/100\n",
      "282/282 [==============================] - 1s 2ms/step - loss: 0.1343 - val_loss: 0.1315\n",
      "Epoch 17/100\n",
      "282/282 [==============================] - 1s 2ms/step - loss: 0.1350 - val_loss: 0.1307\n",
      "Epoch 18/100\n",
      "282/282 [==============================] - 1s 2ms/step - loss: 0.1319 - val_loss: 0.1300\n",
      "Epoch 19/100\n",
      "282/282 [==============================] - 1s 2ms/step - loss: 0.1321 - val_loss: 0.1291\n",
      "Epoch 20/100\n",
      "282/282 [==============================] - 1s 2ms/step - loss: 0.1312 - val_loss: 0.1286\n",
      "Epoch 21/100\n",
      "282/282 [==============================] - 1s 2ms/step - loss: 0.1300 - val_loss: 0.1279\n",
      "Epoch 22/100\n",
      "282/282 [==============================] - 1s 2ms/step - loss: 0.1314 - val_loss: 0.1272\n",
      "Epoch 23/100\n",
      "282/282 [==============================] - 1s 2ms/step - loss: 0.1301 - val_loss: 0.1270\n",
      "Epoch 24/100\n",
      "282/282 [==============================] - 1s 2ms/step - loss: 0.1305 - val_loss: 0.1259\n",
      "Epoch 25/100\n",
      "282/282 [==============================] - 1s 2ms/step - loss: 0.1260 - val_loss: 0.1264\n",
      "Epoch 26/100\n",
      "282/282 [==============================] - 1s 2ms/step - loss: 0.1275 - val_loss: 0.1250\n",
      "Epoch 27/100\n",
      "282/282 [==============================] - 1s 2ms/step - loss: 0.1261 - val_loss: 0.1254\n",
      "Epoch 28/100\n",
      "282/282 [==============================] - 1s 2ms/step - loss: 0.1268 - val_loss: 0.1249\n",
      "Epoch 29/100\n",
      "282/282 [==============================] - 1s 2ms/step - loss: 0.1308 - val_loss: 0.1241\n",
      "Epoch 30/100\n",
      "282/282 [==============================] - 1s 2ms/step - loss: 0.1279 - val_loss: 0.1238\n",
      "Epoch 31/100\n",
      "282/282 [==============================] - 1s 2ms/step - loss: 0.1255 - val_loss: 0.1235\n",
      "Epoch 32/100\n",
      "282/282 [==============================] - 1s 2ms/step - loss: 0.1259 - val_loss: 0.1233\n",
      "Epoch 33/100\n",
      "282/282 [==============================] - 1s 2ms/step - loss: 0.1238 - val_loss: 0.1236\n",
      "Epoch 34/100\n",
      "282/282 [==============================] - 1s 2ms/step - loss: 0.1263 - val_loss: 0.1234\n",
      "Epoch 35/100\n",
      "282/282 [==============================] - 1s 2ms/step - loss: 0.1248 - val_loss: 0.1230\n",
      "Epoch 36/100\n",
      "282/282 [==============================] - 1s 2ms/step - loss: 0.1243 - val_loss: 0.1226\n",
      "Epoch 37/100\n",
      "282/282 [==============================] - 1s 2ms/step - loss: 0.1254 - val_loss: 0.1231\n",
      "Epoch 38/100\n",
      "282/282 [==============================] - 1s 2ms/step - loss: 0.1262 - val_loss: 0.1227\n",
      "Epoch 39/100\n",
      "282/282 [==============================] - 1s 2ms/step - loss: 0.1227 - val_loss: 0.1222\n",
      "Epoch 40/100\n",
      "282/282 [==============================] - 1s 2ms/step - loss: 0.1223 - val_loss: 0.1220\n",
      "Epoch 41/100\n",
      "282/282 [==============================] - 1s 2ms/step - loss: 0.1242 - val_loss: 0.1216\n",
      "Epoch 42/100\n",
      "282/282 [==============================] - 1s 2ms/step - loss: 0.1253 - val_loss: 0.1213\n",
      "Epoch 43/100\n",
      "282/282 [==============================] - 1s 2ms/step - loss: 0.1230 - val_loss: 0.1218\n",
      "Epoch 44/100\n",
      "282/282 [==============================] - 1s 2ms/step - loss: 0.1250 - val_loss: 0.1218\n",
      "Epoch 45/100\n",
      "282/282 [==============================] - 1s 2ms/step - loss: 0.1228 - val_loss: 0.1212\n",
      "Epoch 46/100\n",
      "282/282 [==============================] - 1s 2ms/step - loss: 0.1217 - val_loss: 0.1216\n",
      "Epoch 47/100\n",
      "282/282 [==============================] - 1s 2ms/step - loss: 0.1227 - val_loss: 0.1214\n",
      "Epoch 48/100\n",
      "282/282 [==============================] - 1s 2ms/step - loss: 0.1218 - val_loss: 0.1207\n",
      "Epoch 49/100\n",
      "282/282 [==============================] - 1s 2ms/step - loss: 0.1231 - val_loss: 0.1211\n",
      "Epoch 50/100\n",
      "282/282 [==============================] - 1s 2ms/step - loss: 0.1226 - val_loss: 0.1207\n",
      "Epoch 51/100\n",
      "282/282 [==============================] - 1s 2ms/step - loss: 0.1233 - val_loss: 0.1205\n",
      "Epoch 52/100\n",
      "282/282 [==============================] - 1s 2ms/step - loss: 0.1222 - val_loss: 0.1210\n",
      "Epoch 53/100\n",
      "282/282 [==============================] - 1s 2ms/step - loss: 0.1225 - val_loss: 0.1211\n",
      "Epoch 54/100\n",
      "282/282 [==============================] - 1s 2ms/step - loss: 0.1230 - val_loss: 0.1204\n",
      "Epoch 55/100\n",
      "282/282 [==============================] - 1s 2ms/step - loss: 0.1232 - val_loss: 0.1204\n",
      "Epoch 56/100\n",
      "282/282 [==============================] - 1s 2ms/step - loss: 0.1226 - val_loss: 0.1199\n",
      "Epoch 57/100\n",
      "282/282 [==============================] - 1s 2ms/step - loss: 0.1212 - val_loss: 0.1204\n",
      "Epoch 58/100\n",
      "282/282 [==============================] - 1s 2ms/step - loss: 0.1210 - val_loss: 0.1203\n",
      "Epoch 59/100\n",
      "282/282 [==============================] - 1s 2ms/step - loss: 0.1225 - val_loss: 0.1201\n",
      "Epoch 60/100\n",
      "282/282 [==============================] - 1s 2ms/step - loss: 0.1199 - val_loss: 0.1202\n",
      "Epoch 61/100\n",
      "282/282 [==============================] - 1s 2ms/step - loss: 0.1223 - val_loss: 0.1201\n",
      "Epoch 62/100\n",
      "282/282 [==============================] - 1s 2ms/step - loss: 0.1242 - val_loss: 0.1195\n",
      "Epoch 63/100\n",
      "282/282 [==============================] - 1s 2ms/step - loss: 0.1192 - val_loss: 0.1197\n",
      "Epoch 64/100\n",
      "282/282 [==============================] - 1s 2ms/step - loss: 0.1226 - val_loss: 0.1198\n",
      "Epoch 65/100\n",
      "282/282 [==============================] - 1s 2ms/step - loss: 0.1197 - val_loss: 0.1199\n",
      "Epoch 66/100\n",
      "282/282 [==============================] - 1s 2ms/step - loss: 0.1159 - val_loss: 0.1200\n",
      "Epoch 67/100\n",
      "282/282 [==============================] - 1s 2ms/step - loss: 0.1165 - val_loss: 0.1201\n",
      "Epoch 68/100\n",
      "282/282 [==============================] - 1s 2ms/step - loss: 0.1209 - val_loss: 0.1194\n",
      "Epoch 69/100\n",
      "282/282 [==============================] - 1s 2ms/step - loss: 0.1224 - val_loss: 0.1193\n",
      "Epoch 70/100\n",
      "282/282 [==============================] - 1s 2ms/step - loss: 0.1191 - val_loss: 0.1201\n",
      "Epoch 71/100\n",
      "282/282 [==============================] - 1s 2ms/step - loss: 0.1196 - val_loss: 0.1195\n",
      "Epoch 72/100\n",
      "282/282 [==============================] - 1s 2ms/step - loss: 0.1193 - val_loss: 0.1195\n",
      "Epoch 73/100\n",
      "282/282 [==============================] - 1s 2ms/step - loss: 0.1193 - val_loss: 0.1201\n",
      "Epoch 74/100\n",
      "282/282 [==============================] - 1s 2ms/step - loss: 0.1213 - val_loss: 0.1189\n",
      "Epoch 75/100\n",
      "282/282 [==============================] - 1s 2ms/step - loss: 0.1218 - val_loss: 0.1197\n",
      "Epoch 76/100\n",
      "282/282 [==============================] - 1s 2ms/step - loss: 0.1191 - val_loss: 0.1191\n",
      "Epoch 77/100\n",
      "282/282 [==============================] - 1s 2ms/step - loss: 0.1214 - val_loss: 0.1199\n",
      "Epoch 78/100\n",
      "282/282 [==============================] - 1s 2ms/step - loss: 0.1263 - val_loss: 0.1196\n",
      "Epoch 79/100\n",
      "282/282 [==============================] - 1s 2ms/step - loss: 0.1236 - val_loss: 0.1195\n",
      "Epoch 80/100\n",
      "282/282 [==============================] - 1s 2ms/step - loss: 0.1220 - val_loss: 0.1194\n",
      "Epoch 81/100\n"
     ]
    },
    {
     "name": "stdout",
     "output_type": "stream",
     "text": [
      "282/282 [==============================] - 1s 2ms/step - loss: 0.1183 - val_loss: 0.1195\n",
      "Epoch 82/100\n",
      "282/282 [==============================] - 1s 2ms/step - loss: 0.1242 - val_loss: 0.1194\n",
      "Epoch 83/100\n",
      "282/282 [==============================] - 1s 2ms/step - loss: 0.1194 - val_loss: 0.1188\n",
      "Epoch 84/100\n",
      "282/282 [==============================] - 1s 2ms/step - loss: 0.1193 - val_loss: 0.1193\n",
      "Epoch 85/100\n",
      "282/282 [==============================] - 1s 2ms/step - loss: 0.1188 - val_loss: 0.1194\n",
      "Epoch 86/100\n",
      "282/282 [==============================] - 1s 2ms/step - loss: 0.1233 - val_loss: 0.1191\n",
      "Epoch 87/100\n",
      "282/282 [==============================] - 1s 2ms/step - loss: 0.1178 - val_loss: 0.1189\n",
      "Epoch 88/100\n",
      "282/282 [==============================] - 1s 2ms/step - loss: 0.1190 - val_loss: 0.1192\n",
      "Epoch 89/100\n",
      "282/282 [==============================] - 1s 2ms/step - loss: 0.1198 - val_loss: 0.1193\n",
      "Epoch 90/100\n",
      "282/282 [==============================] - 1s 2ms/step - loss: 0.1182 - val_loss: 0.1194\n",
      "Epoch 91/100\n",
      "282/282 [==============================] - 1s 2ms/step - loss: 0.1209 - val_loss: 0.1188\n",
      "Epoch 92/100\n",
      "282/282 [==============================] - 1s 2ms/step - loss: 0.1229 - val_loss: 0.1186\n",
      "Epoch 93/100\n",
      "282/282 [==============================] - 1s 2ms/step - loss: 0.1197 - val_loss: 0.1186\n",
      "Epoch 94/100\n",
      "282/282 [==============================] - 1s 2ms/step - loss: 0.1229 - val_loss: 0.1186\n",
      "Epoch 95/100\n",
      "282/282 [==============================] - 1s 2ms/step - loss: 0.1179 - val_loss: 0.1189\n",
      "Epoch 96/100\n",
      "282/282 [==============================] - 1s 2ms/step - loss: 0.1160 - val_loss: 0.1187\n",
      "Epoch 97/100\n",
      "282/282 [==============================] - 1s 2ms/step - loss: 0.1171 - val_loss: 0.1185\n",
      "Epoch 98/100\n",
      "282/282 [==============================] - 1s 2ms/step - loss: 0.1211 - val_loss: 0.1194\n",
      "Epoch 99/100\n",
      "282/282 [==============================] - 1s 2ms/step - loss: 0.1190 - val_loss: 0.1187\n",
      "Epoch 100/100\n",
      "282/282 [==============================] - 1s 2ms/step - loss: 0.1191 - val_loss: 0.1183\n"
     ]
    }
   ],
   "source": [
    "# Train Model\n",
    "myInv_amp.fit(X_train_amp, y_train_amp, X_valid_amp, y_valid_amp, batch_size = 32, epochs=100,verbose=1)"
   ]
  },
  {
   "cell_type": "code",
   "execution_count": 195,
   "metadata": {},
   "outputs": [
    {
     "name": "stdout",
     "output_type": "stream",
     "text": [
      "Epoch 1/100\n",
      "282/282 [==============================] - 1s 3ms/step - loss: 3.7920 - val_loss: 3.0374\n",
      "Epoch 2/100\n",
      "282/282 [==============================] - 1s 2ms/step - loss: 2.9541 - val_loss: 2.8024\n",
      "Epoch 3/100\n",
      "282/282 [==============================] - 1s 2ms/step - loss: 2.7819 - val_loss: 2.7073\n",
      "Epoch 4/100\n",
      "282/282 [==============================] - 1s 2ms/step - loss: 2.6849 - val_loss: 2.6633\n",
      "Epoch 5/100\n",
      "282/282 [==============================] - 1s 2ms/step - loss: 2.6537 - val_loss: 2.6356\n",
      "Epoch 6/100\n",
      "282/282 [==============================] - 1s 2ms/step - loss: 2.6183 - val_loss: 2.6203\n",
      "Epoch 7/100\n",
      "282/282 [==============================] - 1s 2ms/step - loss: 2.6031 - val_loss: 2.6102\n",
      "Epoch 8/100\n",
      "282/282 [==============================] - 1s 2ms/step - loss: 2.5814 - val_loss: 2.6001\n",
      "Epoch 9/100\n",
      "282/282 [==============================] - 1s 2ms/step - loss: 2.5658 - val_loss: 2.5952\n",
      "Epoch 10/100\n",
      "282/282 [==============================] - 1s 2ms/step - loss: 2.5695 - val_loss: 2.5857\n",
      "Epoch 11/100\n",
      "282/282 [==============================] - 1s 2ms/step - loss: 2.5672 - val_loss: 2.5833\n",
      "Epoch 12/100\n",
      "282/282 [==============================] - 1s 2ms/step - loss: 2.5451 - val_loss: 2.5780\n",
      "Epoch 13/100\n",
      "282/282 [==============================] - 1s 2ms/step - loss: 2.5466 - val_loss: 2.5715\n",
      "Epoch 14/100\n",
      "282/282 [==============================] - 1s 2ms/step - loss: 2.5455 - val_loss: 2.5699\n",
      "Epoch 15/100\n",
      "282/282 [==============================] - 1s 2ms/step - loss: 2.5240 - val_loss: 2.5650\n",
      "Epoch 16/100\n",
      "282/282 [==============================] - 1s 2ms/step - loss: 2.5499 - val_loss: 2.5631\n",
      "Epoch 17/100\n",
      "282/282 [==============================] - 1s 2ms/step - loss: 2.5223 - val_loss: 2.5583\n",
      "Epoch 18/100\n",
      "282/282 [==============================] - 1s 2ms/step - loss: 2.5186 - val_loss: 2.5555\n",
      "Epoch 19/100\n",
      "282/282 [==============================] - 1s 2ms/step - loss: 2.5133 - val_loss: 2.5517\n",
      "Epoch 20/100\n",
      "282/282 [==============================] - 1s 2ms/step - loss: 2.5126 - val_loss: 2.5515\n",
      "Epoch 21/100\n",
      "282/282 [==============================] - 1s 2ms/step - loss: 2.5385 - val_loss: 2.5503\n",
      "Epoch 22/100\n",
      "282/282 [==============================] - 1s 2ms/step - loss: 2.4952 - val_loss: 2.5456\n",
      "Epoch 23/100\n",
      "282/282 [==============================] - 1s 2ms/step - loss: 2.5255 - val_loss: 2.5457\n",
      "Epoch 24/100\n",
      "282/282 [==============================] - 1s 2ms/step - loss: 2.4824 - val_loss: 2.5444\n",
      "Epoch 25/100\n",
      "282/282 [==============================] - 1s 2ms/step - loss: 2.4891 - val_loss: 2.5413\n",
      "Epoch 26/100\n",
      "282/282 [==============================] - 1s 2ms/step - loss: 2.5004 - val_loss: 2.5397\n",
      "Epoch 27/100\n",
      "282/282 [==============================] - 1s 2ms/step - loss: 2.5003 - val_loss: 2.5387\n",
      "Epoch 28/100\n",
      "282/282 [==============================] - 1s 2ms/step - loss: 2.4744 - val_loss: 2.5341\n",
      "Epoch 29/100\n",
      "282/282 [==============================] - 1s 2ms/step - loss: 2.5046 - val_loss: 2.5340\n",
      "Epoch 30/100\n",
      "282/282 [==============================] - 1s 2ms/step - loss: 2.4721 - val_loss: 2.5327\n",
      "Epoch 31/100\n",
      "282/282 [==============================] - 1s 2ms/step - loss: 2.4786 - val_loss: 2.5291\n",
      "Epoch 32/100\n",
      "282/282 [==============================] - 1s 2ms/step - loss: 2.4819 - val_loss: 2.5283\n",
      "Epoch 33/100\n",
      "282/282 [==============================] - 1s 2ms/step - loss: 2.4764 - val_loss: 2.5269\n",
      "Epoch 34/100\n",
      "282/282 [==============================] - 1s 2ms/step - loss: 2.4705 - val_loss: 2.5269\n",
      "Epoch 35/100\n",
      "282/282 [==============================] - 1s 2ms/step - loss: 2.4900 - val_loss: 2.5260\n",
      "Epoch 36/100\n",
      "282/282 [==============================] - 1s 2ms/step - loss: 2.4747 - val_loss: 2.5227\n",
      "Epoch 37/100\n",
      "282/282 [==============================] - 1s 2ms/step - loss: 2.4626 - val_loss: 2.5246\n",
      "Epoch 38/100\n",
      "282/282 [==============================] - 1s 2ms/step - loss: 2.4745 - val_loss: 2.5196\n",
      "Epoch 39/100\n",
      "282/282 [==============================] - 1s 2ms/step - loss: 2.4674 - val_loss: 2.5208\n",
      "Epoch 40/100\n",
      "282/282 [==============================] - 1s 2ms/step - loss: 2.4747 - val_loss: 2.5200\n",
      "Epoch 41/100\n",
      "282/282 [==============================] - 1s 2ms/step - loss: 2.4489 - val_loss: 2.5174\n",
      "Epoch 42/100\n",
      "282/282 [==============================] - 1s 2ms/step - loss: 2.4908 - val_loss: 2.5160\n",
      "Epoch 43/100\n",
      "282/282 [==============================] - 1s 2ms/step - loss: 2.4937 - val_loss: 2.5177\n",
      "Epoch 44/100\n",
      "282/282 [==============================] - 1s 2ms/step - loss: 2.4625 - val_loss: 2.5151\n",
      "Epoch 45/100\n",
      "282/282 [==============================] - 1s 2ms/step - loss: 2.4511 - val_loss: 2.5139\n",
      "Epoch 46/100\n",
      "282/282 [==============================] - 1s 2ms/step - loss: 2.4746 - val_loss: 2.5126\n",
      "Epoch 47/100\n",
      "282/282 [==============================] - 1s 2ms/step - loss: 2.4589 - val_loss: 2.5124\n",
      "Epoch 48/100\n",
      "282/282 [==============================] - 1s 2ms/step - loss: 2.4682 - val_loss: 2.5123\n",
      "Epoch 49/100\n",
      "282/282 [==============================] - 1s 2ms/step - loss: 2.4575 - val_loss: 2.5114\n",
      "Epoch 50/100\n",
      "282/282 [==============================] - 1s 2ms/step - loss: 2.4918 - val_loss: 2.5103\n",
      "Epoch 51/100\n",
      "282/282 [==============================] - 1s 2ms/step - loss: 2.4651 - val_loss: 2.5097\n",
      "Epoch 52/100\n",
      "282/282 [==============================] - 1s 2ms/step - loss: 2.4595 - val_loss: 2.5083\n",
      "Epoch 53/100\n",
      "282/282 [==============================] - 1s 2ms/step - loss: 2.4462 - val_loss: 2.5069\n",
      "Epoch 54/100\n",
      "282/282 [==============================] - 1s 2ms/step - loss: 2.4503 - val_loss: 2.5071\n",
      "Epoch 55/100\n",
      "282/282 [==============================] - 1s 2ms/step - loss: 2.4493 - val_loss: 2.5076\n",
      "Epoch 56/100\n",
      "282/282 [==============================] - 1s 3ms/step - loss: 2.4469 - val_loss: 2.5068\n",
      "Epoch 57/100\n",
      "282/282 [==============================] - 1s 3ms/step - loss: 2.4634 - val_loss: 2.5054\n",
      "Epoch 58/100\n",
      "282/282 [==============================] - 1s 3ms/step - loss: 2.4336 - val_loss: 2.5055\n",
      "Epoch 59/100\n",
      "282/282 [==============================] - 1s 3ms/step - loss: 2.4764 - val_loss: 2.5004\n",
      "Epoch 60/100\n",
      "282/282 [==============================] - 1s 3ms/step - loss: 2.4568 - val_loss: 2.5018\n",
      "Epoch 61/100\n",
      "282/282 [==============================] - 1s 3ms/step - loss: 2.4549 - val_loss: 2.5012\n",
      "Epoch 62/100\n",
      "282/282 [==============================] - 1s 3ms/step - loss: 2.4422 - val_loss: 2.5013\n",
      "Epoch 63/100\n",
      "282/282 [==============================] - 1s 3ms/step - loss: 2.4527 - val_loss: 2.5017\n",
      "Epoch 64/100\n",
      "282/282 [==============================] - 1s 3ms/step - loss: 2.4609 - val_loss: 2.5031\n",
      "Epoch 65/100\n",
      "282/282 [==============================] - 1s 3ms/step - loss: 2.4422 - val_loss: 2.5017\n",
      "Epoch 66/100\n",
      "282/282 [==============================] - 1s 3ms/step - loss: 2.4476 - val_loss: 2.4997\n",
      "Epoch 67/100\n",
      "282/282 [==============================] - 1s 3ms/step - loss: 2.4260 - val_loss: 2.5005\n",
      "Epoch 68/100\n",
      "282/282 [==============================] - 1s 2ms/step - loss: 2.4424 - val_loss: 2.4989\n",
      "Epoch 69/100\n",
      "282/282 [==============================] - 1s 2ms/step - loss: 2.4675 - val_loss: 2.4976\n",
      "Epoch 70/100\n",
      "282/282 [==============================] - 1s 2ms/step - loss: 2.4692 - val_loss: 2.4984\n",
      "Epoch 71/100\n",
      "282/282 [==============================] - 1s 2ms/step - loss: 2.4616 - val_loss: 2.4988\n",
      "Epoch 72/100\n",
      "282/282 [==============================] - 1s 2ms/step - loss: 2.4441 - val_loss: 2.4983\n",
      "Epoch 73/100\n",
      "282/282 [==============================] - 1s 2ms/step - loss: 2.4532 - val_loss: 2.4970\n",
      "Epoch 74/100\n",
      "282/282 [==============================] - 1s 2ms/step - loss: 2.4478 - val_loss: 2.4960\n",
      "Epoch 75/100\n",
      "282/282 [==============================] - 1s 2ms/step - loss: 2.4249 - val_loss: 2.4966\n",
      "Epoch 76/100\n",
      "282/282 [==============================] - 1s 2ms/step - loss: 2.4496 - val_loss: 2.4940\n",
      "Epoch 77/100\n",
      "282/282 [==============================] - 1s 2ms/step - loss: 2.4515 - val_loss: 2.4941\n",
      "Epoch 78/100\n",
      "282/282 [==============================] - 1s 2ms/step - loss: 2.4185 - val_loss: 2.4939\n",
      "Epoch 79/100\n",
      "282/282 [==============================] - 1s 2ms/step - loss: 2.4489 - val_loss: 2.4954\n",
      "Epoch 80/100\n",
      "282/282 [==============================] - 1s 2ms/step - loss: 2.4233 - val_loss: 2.4951\n",
      "Epoch 81/100\n"
     ]
    },
    {
     "name": "stdout",
     "output_type": "stream",
     "text": [
      "282/282 [==============================] - 1s 2ms/step - loss: 2.4452 - val_loss: 2.4943\n",
      "Epoch 82/100\n",
      "282/282 [==============================] - 1s 2ms/step - loss: 2.4386 - val_loss: 2.4940\n",
      "Epoch 83/100\n",
      "282/282 [==============================] - 1s 2ms/step - loss: 2.4720 - val_loss: 2.4951\n",
      "Epoch 84/100\n",
      "282/282 [==============================] - 1s 2ms/step - loss: 2.4209 - val_loss: 2.4939\n",
      "Epoch 85/100\n",
      "282/282 [==============================] - 1s 2ms/step - loss: 2.4372 - val_loss: 2.4925\n",
      "Epoch 86/100\n",
      "282/282 [==============================] - 1s 2ms/step - loss: 2.4401 - val_loss: 2.4923\n",
      "Epoch 87/100\n",
      "282/282 [==============================] - 1s 2ms/step - loss: 2.4313 - val_loss: 2.4917\n",
      "Epoch 88/100\n",
      "282/282 [==============================] - 1s 2ms/step - loss: 2.4379 - val_loss: 2.4930\n",
      "Epoch 89/100\n",
      "282/282 [==============================] - 1s 2ms/step - loss: 2.4486 - val_loss: 2.4929\n",
      "Epoch 90/100\n",
      "282/282 [==============================] - 1s 2ms/step - loss: 2.4391 - val_loss: 2.4922\n",
      "Epoch 91/100\n",
      "282/282 [==============================] - 1s 2ms/step - loss: 2.4440 - val_loss: 2.4936\n",
      "Epoch 92/100\n",
      "282/282 [==============================] - 1s 2ms/step - loss: 2.4263 - val_loss: 2.4917\n",
      "Epoch 93/100\n",
      "282/282 [==============================] - 1s 2ms/step - loss: 2.4319 - val_loss: 2.4909\n",
      "Epoch 94/100\n",
      "282/282 [==============================] - 1s 2ms/step - loss: 2.4305 - val_loss: 2.4892\n",
      "Epoch 95/100\n",
      "282/282 [==============================] - 1s 2ms/step - loss: 2.4218 - val_loss: 2.4926\n",
      "Epoch 96/100\n",
      "282/282 [==============================] - 1s 2ms/step - loss: 2.4140 - val_loss: 2.4923\n",
      "Epoch 97/100\n",
      "282/282 [==============================] - 1s 2ms/step - loss: 2.4457 - val_loss: 2.4912\n",
      "Epoch 98/100\n",
      "282/282 [==============================] - 1s 2ms/step - loss: 2.4113 - val_loss: 2.4900\n",
      "Epoch 99/100\n",
      "282/282 [==============================] - 1s 2ms/step - loss: 2.4455 - val_loss: 2.4915\n",
      "Epoch 100/100\n",
      "282/282 [==============================] - 1s 2ms/step - loss: 2.4182 - val_loss: 2.4908\n"
     ]
    }
   ],
   "source": [
    "myInv_phase.fit(X_train_phase, y_train_phase, X_valid_phase, y_valid_phase, batch_size = 32, epochs=100,verbose=1)"
   ]
  },
  {
   "cell_type": "code",
   "execution_count": 196,
   "metadata": {},
   "outputs": [
    {
     "data": {
      "text/plain": [
       "array([[-0.47248513, -0.46469423, -0.49873307, -0.4536601 , -0.5044913 ,\n",
       "        -0.46117225, -0.45426604, -0.5467412 , -0.47005236, -0.46848682,\n",
       "        -0.4567556 , -0.48530337, -0.49383712, -0.45402774, -0.47693425,\n",
       "        -0.45821887],\n",
       "       [-0.10168248, -0.1386367 , -0.18258107, -0.29929402, -0.0430944 ,\n",
       "        -0.16570908, -0.13525802, -0.19015944, -0.11099108, -0.21158667,\n",
       "        -0.1814876 , -0.15483308, -0.14375627, -0.0805324 , -0.08564842,\n",
       "        -0.15448338],\n",
       "       [-1.2861072 , -1.2695291 , -1.3132327 , -1.2577229 , -1.3348595 ,\n",
       "        -1.231543  , -1.3723589 , -1.2563733 , -1.2344033 , -1.2684028 ,\n",
       "        -1.2816248 , -1.3147794 , -1.3084613 , -1.2889698 , -1.2331805 ,\n",
       "        -1.3483095 ],\n",
       "       [-1.208308  , -1.2203457 , -1.2028427 , -1.1810404 , -1.2240746 ,\n",
       "        -1.1984922 , -1.2570475 , -1.1719648 , -1.1772426 , -1.2585676 ,\n",
       "        -1.299225  , -1.209944  , -1.1810725 , -1.2127668 , -1.235289  ,\n",
       "        -1.2368144 ]], dtype=float32)"
      ]
     },
     "execution_count": 196,
     "metadata": {},
     "output_type": "execute_result"
    }
   ],
   "source": [
    "y_hat = myInv_amp.predict(X_test_amp)*np.exp(1j*myInv_phase.predict(X_test_phase))\n",
    "y_hat.dtype\n",
    "y_hat = myInv_amp.predict(X_test_amp)\n",
    "y_hat[1:5,:]"
   ]
  },
  {
   "cell_type": "code",
   "execution_count": 197,
   "metadata": {},
   "outputs": [
    {
     "data": {
      "text/plain": [
       "array([[-0.31758064, -0.31758064, -0.31758064, -0.31758064, -0.31758064,\n",
       "        -0.31758064, -0.31758064, -0.31758064, -0.31758064, -0.31758064,\n",
       "        -0.31758064, -0.31758064, -0.31758064, -0.31758064, -0.31758064,\n",
       "        -0.31758064],\n",
       "       [-0.08387244, -0.08387244, -0.08387244, -0.08387244, -0.08387244,\n",
       "        -0.08387244, -0.08387244, -0.08387244, -0.08387244, -0.08387244,\n",
       "        -0.08387244, -0.08387244, -0.08387244, -0.08387244, -0.08387244,\n",
       "        -0.08387244]])"
      ]
     },
     "execution_count": 197,
     "metadata": {},
     "output_type": "execute_result"
    }
   ],
   "source": [
    "y_test_amp[1:3,:]"
   ]
  },
  {
   "cell_type": "code",
   "execution_count": 198,
   "metadata": {},
   "outputs": [
    {
     "data": {
      "text/plain": [
       "array([[ 0.16233379, -0.1514521 , -0.7507202 , -0.45484341, -0.64494244,\n",
       "        -0.40678551, -1.27610833,  0.85992933, -0.1536338 , -1.22413049,\n",
       "         1.45589907, -0.56846614,  0.0529663 , -0.52192677, -0.13726423,\n",
       "        -1.46106772],\n",
       "       [-0.82792304,  0.76737084, -0.42894777,  0.42505805, -0.7649639 ,\n",
       "         0.30143628,  0.29564324, -0.2335835 , -0.7662664 , -1.05038995,\n",
       "        -0.44579673, -0.16322274, -0.52352843,  0.92922641,  1.29967037,\n",
       "        -0.64297887]])"
      ]
     },
     "execution_count": 198,
     "metadata": {},
     "output_type": "execute_result"
    }
   ],
   "source": [
    "X_test_amp[1:3,:]"
   ]
  },
  {
   "cell_type": "code",
   "execution_count": 151,
   "metadata": {},
   "outputs": [
    {
     "data": {
      "text/plain": [
       "0.03924402165465134"
      ]
     },
     "execution_count": 151,
     "metadata": {},
     "output_type": "execute_result"
    }
   ],
   "source": [
    "np.mean(X_test_amp)"
   ]
  },
  {
   "cell_type": "code",
   "execution_count": 152,
   "metadata": {},
   "outputs": [
    {
     "data": {
      "text/plain": [
       "0.039310276136743955"
      ]
     },
     "execution_count": 152,
     "metadata": {},
     "output_type": "execute_result"
    }
   ],
   "source": [
    "np.mean(y_test_amp)"
   ]
  },
  {
   "cell_type": "code",
   "execution_count": null,
   "metadata": {},
   "outputs": [],
   "source": []
  }
 ],
 "metadata": {
  "kernelspec": {
   "display_name": "Python [conda env:tfgpu] *",
   "language": "python",
   "name": "conda-env-tfgpu-py"
  },
  "language_info": {
   "codemirror_mode": {
    "name": "ipython",
    "version": 3
   },
   "file_extension": ".py",
   "mimetype": "text/x-python",
   "name": "python",
   "nbconvert_exporter": "python",
   "pygments_lexer": "ipython3",
   "version": "3.8.5"
  }
 },
 "nbformat": 4,
 "nbformat_minor": 1
}
