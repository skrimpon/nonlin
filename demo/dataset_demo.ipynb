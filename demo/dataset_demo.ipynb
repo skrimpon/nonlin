{
 "cells": [
  {
   "cell_type": "markdown",
   "source": [
    "# Symbol-level simulation\n",
    "Let's first consider a simple symbol-level simulation. We consider a single-input\n",
    "multiple-output (SIMO) system. First, we generate the transmit symbols\n",
    "$$\\mathbf{x}$$ based on i.i.d complex Gaussian distribution with zero mean and variance 1.\n",
    "Then, we consider a single path channel $\\mathbf{w}$ with i.i.d uniform phase in\n",
    "$[0,2\\pi]$. For the receiver, we consider $n_\\mathrm{rx}=16$ receive antennas.\n",
    "For each design option $\\theta$ we create a different radio-frequency front-end (RFFE),\n",
    "that can be described by a unique non-linear function $\\Phi_\\theta$."
   ],
   "metadata": {
    "collapsed": false,
    "pycharm": {
     "name": "#%% md\n"
    }
   }
  },
  {
   "cell_type": "code",
   "execution_count": 99,
   "outputs": [],
   "source": [
    "import pandas as pd\n",
    "import numpy as np\n",
    "import matplotlib.pyplot as plt\n",
    "import os\n",
    "import sys\n",
    "\n",
    "in_df = pd.read_csv(r'../datasets/rx_1/idata_1.csv')\n",
    "p0_df = pd.read_csv(r'../datasets/rx_1/param_0_1_1.csv')\n",
    "p1_df = pd.read_csv(r'../datasets/rx_1/param_1_1_1.csv')"
   ],
   "metadata": {
    "collapsed": false,
    "pycharm": {
     "name": "#%% code\n"
    }
   }
  },
  {
   "cell_type": "code",
   "execution_count": 100,
   "outputs": [],
   "source": [
    "fc = float(p0_df['fc'])\n",
    "fs = float(p0_df['fs'])\n",
    "nit = int(p0_df['nit'])\n",
    "nrx = int(p0_df['nrx'])\n",
    "nsnr = int(p0_df['nsnr'])\n",
    "nx = int(p0_df['nx'])\n",
    "ndsgn = 4;"
   ],
   "metadata": {
    "collapsed": false,
    "pycharm": {
     "name": "#%%\n"
    }
   }
  },
  {
   "cell_type": "code",
   "execution_count": 101,
   "outputs": [],
   "source": [
    "# Random tx data\n",
    "x = np.char.replace(np.array(in_df['x'],dtype=str),'i','j').astype(np.complex)\n",
    "\n",
    "# Channel w\n",
    "tmp = []\n",
    "for i in range(1,nrx+1):\n",
    "  tmp.append(np.char.replace(np.array(in_df['w_'+str(i)],dtype=str),'i','j').astype(np.complex))\n",
    "\n",
    "w = np.empty([nx, nrx], dtype=complex)\n",
    "for irx in range(nrx):\n",
    "  w[:,irx] = tmp[irx]\n",
    "\n",
    "# Received data with no noise\n",
    "tmp = []\n",
    "for i in range(1,nrx+1):\n",
    "  tmp.append(np.char.replace(np.array(in_df['y_'+str(i)],dtype=str),'i','j').astype(np.complex))\n",
    "\n",
    "y = np.empty([nx, nrx], dtype=complex)\n",
    "for irx in range(nrx):\n",
    "  y[:,irx] = tmp[irx]\n",
    "\n",
    "\n",
    "# Received data at the antenna at various rx power levels\n",
    "tmp = []\n",
    "for i in range(1,nsnr*nrx+1):\n",
    "  tmp.append(np.char.replace(np.array(in_df['yant_'+str(i)],dtype=str),'i','j').astype(np.complex))\n",
    "\n",
    "r = np.empty([nx, nrx, nsnr], dtype=complex)\n",
    "for isnr in range(nsnr):\n",
    "  for irx in range(nrx):\n",
    "    r[:,irx,isnr] = tmp[isnr*nrx + irx]"
   ],
   "metadata": {
    "collapsed": false,
    "pycharm": {
     "name": "#%%\n"
    }
   }
  },
  {
   "cell_type": "code",
   "execution_count": 102,
   "outputs": [],
   "source": [
    "# Output of the RFFE non-linear function Phi(r)\n",
    "\n",
    "y_rffe = np.empty([nx, nrx, nsnr, ndsgn], dtype=complex)\n",
    "x_hat = np.empty([nx, nsnr, ndsgn], dtype=complex)\n",
    "\n",
    "for idsgn in range(ndsgn):\n",
    "  out_df = pd.read_csv(r'../datasets/rx_1/odata_'+str(idsgn+1)+'_1.csv')\n",
    "\n",
    "  tmp = []\n",
    "  for i in range(1,nsnr*nrx+1):\n",
    "    tmp.append(np.char.replace(np.array(out_df['yrffe_'+str(i)],dtype=str),'i','j').astype(np.complex))\n",
    "\n",
    "  for isnr in range(nsnr):\n",
    "    for irx in range(nrx):\n",
    "      y_rffe[:,irx,isnr,idsgn] = tmp[isnr*nrx + irx]\n",
    "\n",
    "  # Predicted tx data\n",
    "  tmp = []\n",
    "  for i in range(1,nsnr+1):\n",
    "    tmp.append(np.char.replace(np.array(out_df['xhat_'+str(i)],dtype=str),'i','j').astype(np.complex))\n",
    "\n",
    "  for isnr in range(nsnr):\n",
    "      x_hat[:,isnr,idsgn] = tmp[isnr]"
   ],
   "metadata": {
    "collapsed": false,
    "pycharm": {
     "name": "#%%\n"
    }
   }
  },
  {
   "cell_type": "code",
   "execution_count": 103,
   "outputs": [
    {
     "data": {
      "text/plain": "<Figure size 540x540 with 4 Axes>",
      "image/png": "[encoded data removed]"
     },
     "metadata": {
      "needs_background": "light"
     },
     "output_type": "display_data"
    }
   ],
   "source": [
    "irx = 0\n",
    "isnr = 10\n",
    "plt.rcParams[\"figure.figsize\"] = (7.5, 7.5)\n",
    "for idsgn in range(ndsgn):\n",
    "  plt.subplot(2,2,idsgn+1)\n",
    "  plt.plot(r[:,irx,isnr].real, y_rffe[:,irx,isnr,idsgn].real, 's')\n",
    "  plt.grid()"
   ],
   "metadata": {
    "collapsed": false,
    "pycharm": {
     "name": "#%%\n"
    }
   }
  }
 ],
 "metadata": {
  "kernelspec": {
   "display_name": "Python 3",
   "language": "python",
   "name": "python3"
  },
  "language_info": {
   "codemirror_mode": {
    "name": "ipython",
    "version": 2
   },
   "file_extension": ".py",
   "mimetype": "text/x-python",
   "name": "python",
   "nbconvert_exporter": "python",
   "pygments_lexer": "ipython2",
   "version": "2.7.6"
  }
 },
 "nbformat": 4,
 "nbformat_minor": 0
}