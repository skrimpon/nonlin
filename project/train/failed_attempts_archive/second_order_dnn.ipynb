{
 "cells": [
  {
   "cell_type": "markdown",
   "metadata": {
    "collapsed": true,
    "pycharm": {
     "name": "#%% md\n"
    }
   },
   "source": [
    "# Hardware Impairment mitigation with Dense Neural Network\n",
    "\n",
    "## (incomplete) Description:\n",
    "\n",
    "We create a SIMO system with $n$ rx antenna and $m$ tx symbols\n",
    "\n",
    "For the transmitter, we generate the $x \\in \\mathbb{C}^{m \\times 1}$ tx symbols\n",
    "based on a given distribution. For the channel, we consider a known channel\n",
    "matrix $W \\in \\mathbb{C}^{m \\times n}$ at the receiver. The received symbols for each antenna are:\n",
    "$$ r_i = w_i \\, x_i + \\eta_i,$$\n",
    "where $r_i, w_i, \\eta_i \\in \\mathbb{C}^{1 \\times n}$ and $\\eta_i$ is the thermal noise.\n",
    "The actions of the RF front-end are described by a non-linear function $\\Phi$:\n",
    "\n",
    "$$ y_i = \\Phi(r_i)$$\n",
    "To measure the output SNR we first do the beamforming with the known channel matrix $w_i$\n",
    "$$ \\hat{x}_i = \\frac{y_i w_i^H}{\\|w_i\\|^2} $$\n",
    "\n",
    "To measure the SNR we will take a linear estimate of $x$ with $\\hat{x} = a \\, x + d$ and\n",
    "$d \\sim CN(0, \\mathbb{E}|\\hat{x}-a \\, x|^2)$. First we find $a$,\n",
    "\n",
    "$$ a = \\frac{\\sqrt{m}}{m} \\frac{\\hat{x}^H x }{\\|x\\|^2}$$\n",
    "\n",
    "Then, we find the noise variance of $d$:\n",
    "\n",
    "$$ \\sigma_d = \\mathbb{E} \\left[ |\\hat{x}-a\\,x|^2 \\right]$$\n",
    "\n",
    "To find the output-SNR:\n",
    "$$ \\gamma_{out} = \\left( \\frac{|a| \\, \\sigma_x}{\\sigma_d} \\right)^2$$"
   ]
  },
  {
   "cell_type": "markdown",
   "metadata": {},
   "source": [
    "## Import TensorFlow and other libraries"
   ]
  },
  {
   "cell_type": "code",
   "execution_count": 1,
   "metadata": {
    "pycharm": {
     "name": "#%% code\n"
    }
   },
   "outputs": [],
   "source": [
    "import numpy as np\n",
    "import pandas as pd\n",
    "import tensorflow as tf\n",
    "\n",
    "from sklearn.preprocessing import StandardScaler, Normalizer,PowerTransformer\n",
    "from sklearn.model_selection import train_test_split\n",
    "from tensorflow.keras import losses\n",
    "\n",
    "import matplotlib.pyplot as plt"
   ]
  },
  {
   "cell_type": "markdown",
   "metadata": {
    "pycharm": {
     "name": "#%% md\n"
    }
   },
   "source": [
    "## Parameter definition"
   ]
  },
  {
   "cell_type": "code",
   "execution_count": 2,
   "metadata": {
    "pycharm": {
     "name": "#%%\n"
    }
   },
   "outputs": [],
   "source": [
    "# Design id\n",
    "#\n",
    "# * 0: Non-linear front-end with ADC quantization\n",
    "# * 1: Non-linear front-end without ADC quantization\n",
    "# * 2: Linear front-end with ADC quantization\n",
    "# * 3: Linear front-end without ADC quantization\n",
    "id = 1\n",
    "it = 1      # iteration\n",
    "\n",
    "nrx = 16    # num of receiver antennas\n",
    "nsnr = 31   # num of snr points\n",
    "nx = 10000  # num of tx samples"
   ]
  },
  {
   "cell_type": "markdown",
   "metadata": {},
   "source": [
    "## Read the data fromt the input files"
   ]
  },
  {
   "cell_type": "code",
   "execution_count": 3,
   "metadata": {
    "pycharm": {
     "name": "#%% code\n"
    }
   },
   "outputs": [
    {
     "name": "stdout",
     "output_type": "stream",
     "text": [
      "y_ant shape: (310000, 16)\n",
      "y_rffe shape: (310000, 16)\n"
     ]
    }
   ],
   "source": [
    "df = pd.read_csv(r'../../datasets/rx_1/idata_'+str(it)+'.csv')\n",
    "# Random tx data\n",
    "x = np.char.replace(np.array(df['x'],dtype=str),'i','j').astype(np.complex)\n",
    "\n",
    "# Channel w\n",
    "w = np.array([np.char.replace(np.array(df['w_'+str(i+1)],dtype=str),'i','j').astype(np.complex)\n",
    "              for i in range(nrx)], dtype=complex)\n",
    "\n",
    "y_ant = np.array([np.char.replace(np.array(df['yant_'+str(isnr*nrx+irx+1)],dtype=str),'i','j').astype(np.complex)\n",
    "              for isnr in range(nsnr) for irx in range(nrx) ], dtype=complex).T.reshape(nx*nsnr,nrx)\n",
    "\n",
    "df = pd.read_csv(r'../../datasets/rx_1/odata_'+str(id+1)+'_'+str(it)+'.csv')\n",
    "y_rffe = np.array([np.char.replace(np.array(df['yrffe_'+str(isnr*nrx+irx+1)],dtype=str),'i','j').astype(np.complex)\n",
    "                    for isnr in range(nsnr) for irx in range(nrx)]).T.reshape(nx*nsnr,nrx)\n",
    "\n",
    "df = pd.read_csv(r'../../datasets/rx_1/param_1_'+str(id+1)+'_'+str(it)+'.csv')\n",
    "power_in = df['Pin']\n",
    "\n",
    "# Print the shape for some of the arrays\n",
    "print(f'y_ant shape: {y_ant.shape}')\n",
    "print(f'y_rffe shape: {y_rffe.shape}')"
   ]
  },
  {
   "cell_type": "markdown",
   "metadata": {
    "pycharm": {
     "name": "#%% md\n"
    }
   },
   "source": [
    "## Define some helper functions"
   ]
  },
  {
   "cell_type": "code",
   "execution_count": 4,
   "metadata": {
    "pycharm": {
     "name": "#%% code\n"
    }
   },
   "outputs": [],
   "source": [
    "def snr(Phi):\n",
    "    xh = sum(Phi.T*np.conj(w),0)/np.sum(np.abs(w)**2,0)\n",
    "    a = np.mean(np.conj(xh)*x)/np.mean(np.abs(x)**2)\n",
    "    d_var = np.mean(np.abs(xh - a*x)**2)\n",
    "    snr_out = 10*np.log10(np.abs(a)**2/d_var)\n",
    "    return snr_out"
   ]
  },
  {
   "cell_type": "markdown",
   "metadata": {
    "pycharm": {
     "name": "#%% md\n"
    }
   },
   "source": [
    "## Prepare the training and test data"
   ]
  },
  {
   "cell_type": "code",
   "execution_count": 5,
   "metadata": {},
   "outputs": [],
   "source": [
    "# r = np.hstack((y_ant.real, y_ant.imag, np.abs(y_ant), y_ant.real**3, y_ant.imag**3))\n",
    "# X = np.hstack((y_rffe.real, y_rffe.imag, np.abs(y_rffe), np.cbrt(y_rffe.real), np.cbrt(y_rffe.imag)))"
   ]
  },
  {
   "cell_type": "code",
   "execution_count": 6,
   "metadata": {},
   "outputs": [],
   "source": [
    "r = np.hstack((y_ant.real, y_ant.imag))\n",
    "X = np.hstack((y_rffe.real, y_rffe.imag))"
   ]
  },
  {
   "cell_type": "code",
   "execution_count": 7,
   "metadata": {},
   "outputs": [
    {
     "name": "stdout",
     "output_type": "stream",
     "text": [
      "x_train shape: (279000, 32)\n"
     ]
    }
   ],
   "source": [
    "x_train, x_test, y_train, y_test = train_test_split(X, r, shuffle=True, test_size=0.1)\n",
    "\n",
    "\n",
    "# scale_in = StandardScaler(with_mean=True, with_std=True).fit(x_train)\n",
    "# scale_out = StandardScaler(with_mean=True, with_std=True).fit(y_train)\n",
    "scale_in = PowerTransformer().fit(x_train)\n",
    "scale_out = PowerTransformer().fit(y_train)\n",
    "\n",
    "x_train = scale_in.transform(x_train)\n",
    "x_test = scale_in.transform(x_test)\n",
    "y_train = scale_out.transform(y_train)\n",
    "y_test = scale_out.transform(y_test)\n",
    "\n",
    "print(f'x_train shape: {x_train.shape}')"
   ]
  },
  {
   "cell_type": "code",
   "execution_count": 8,
   "metadata": {},
   "outputs": [
    {
     "data": {
      "text/plain": [
       "array([[ 0.82699829,  0.55414118, -0.33495498, -0.48417361,  0.20530013,\n",
       "        -0.4398183 , -0.78239084,  0.3490287 , -0.2209896 , -0.34655116,\n",
       "         0.20889056,  0.76324408, -0.41395504, -0.14614596, -0.02047484,\n",
       "        -0.47417171,  0.42781514, -0.58610122,  0.25884528, -0.24736077,\n",
       "         0.60368184, -0.22909762,  0.22475759,  0.0172828 ,  0.29794178,\n",
       "         0.31921699,  0.56311805, -0.29520256, -0.31203032,  0.58033469,\n",
       "         0.46675837, -0.28229749],\n",
       "       [-0.58478343,  1.10648047,  0.67922637,  0.54700525, -0.60281139,\n",
       "         0.79390675, -0.62436016,  0.50828538,  0.18445828, -0.84797882,\n",
       "        -0.78172761,  0.67578615, -0.13261547, -0.47158181, -1.4265863 ,\n",
       "        -0.62583975, -1.18867618,  0.33418899,  0.16558865, -1.45969453,\n",
       "         0.88104538,  0.38344255, -0.92158683,  0.41343274,  0.83799582,\n",
       "        -1.78591056,  1.00114139,  0.19188973, -0.59146794,  2.00509864,\n",
       "         0.21504048,  0.77406797],\n",
       "       [ 0.38627144, -1.02685165, -1.51761708,  1.68941056,  2.66945418,\n",
       "         2.66158392, -1.4087952 ,  0.18132598, -1.59466891, -2.48311552,\n",
       "        -1.76282225,  2.49515728, -0.02254442, -2.1260794 , -2.62077088,\n",
       "         2.50755803,  2.62096877,  2.47375953,  2.15629443, -2.06029011,\n",
       "         0.48144599,  0.12723306, -2.24672137, -2.6645634 , -2.17834457,\n",
       "         0.98853063,  2.00355783,  1.02962858,  2.62470582, -1.5450565 ,\n",
       "         0.15021041,  1.00589444],\n",
       "       [-0.6505572 ,  2.12946867,  0.85622418, -0.53790075, -1.3214038 ,\n",
       "        -0.78289208, -1.18749713, -0.88789846,  0.57861749,  0.8641267 ,\n",
       "         1.18395568, -0.87038514, -1.3402461 , -0.65867531, -0.82504285,\n",
       "        -0.46366495, -0.6874732 ,  0.83888616, -0.13962965,  1.04931573,\n",
       "        -0.28892301,  1.09716663,  1.15254049, -0.15315222, -0.62327511,\n",
       "         0.14822479, -0.66231301, -0.76815268,  1.15236634,  1.25172109,\n",
       "        -0.33306939, -0.254799  ],\n",
       "       [-0.77385522, -0.86629885, -0.34836775, -0.08322899,  0.915892  ,\n",
       "         0.49945315, -0.12311395,  0.73220018,  0.78096583,  0.84051859,\n",
       "         0.08741366,  0.54967781, -0.98868915,  0.05233329,  0.75892737,\n",
       "         0.58312368, -0.48697179, -0.16526892, -1.09261253, -0.6421129 ,\n",
       "        -0.71115348, -0.94642946,  1.09268469, -0.49271574, -0.0124667 ,\n",
       "        -0.08140804,  0.98550898,  0.54794979,  0.23739179, -0.76281187,\n",
       "         0.61219418, -0.71554034]])"
      ]
     },
     "execution_count": 8,
     "metadata": {},
     "output_type": "execute_result"
    }
   ],
   "source": [
    "x_train[:5,:]"
   ]
  },
  {
   "cell_type": "markdown",
   "metadata": {
    "pycharm": {
     "name": "#%% md\n"
    }
   },
   "source": [
    "## Create and train the neural network"
   ]
  },
  {
   "cell_type": "code",
   "execution_count": 9,
   "metadata": {
    "pycharm": {
     "name": "#%%\n"
    }
   },
   "outputs": [
    {
     "name": "stdout",
     "output_type": "stream",
     "text": [
      "Epoch 1/10\n",
      "1090/1090 [==============================] - 5s 4ms/step - loss: 0.9508 - val_loss: 0.7560\n",
      "Epoch 2/10\n",
      "1090/1090 [==============================] - 3s 3ms/step - loss: 0.7603 - val_loss: 0.7295\n",
      "Epoch 3/10\n",
      "1090/1090 [==============================] - 4s 3ms/step - loss: 0.7529 - val_loss: 0.7172\n",
      "Epoch 4/10\n",
      "1090/1090 [==============================] - 3s 3ms/step - loss: 0.7407 - val_loss: 0.7109\n",
      "Epoch 5/10\n",
      "1090/1090 [==============================] - 3s 3ms/step - loss: 0.7390 - val_loss: 0.7071\n",
      "Epoch 6/10\n",
      "1090/1090 [==============================] - 3s 3ms/step - loss: 0.7312 - val_loss: 0.7039\n",
      "Epoch 7/10\n",
      "1090/1090 [==============================] - 4s 3ms/step - loss: 0.7305 - val_loss: 0.7014\n",
      "Epoch 8/10\n",
      "1090/1090 [==============================] - 4s 3ms/step - loss: 0.7190 - val_loss: 0.7002\n",
      "Epoch 9/10\n",
      "1090/1090 [==============================] - 3s 3ms/step - loss: 0.7180 - val_loss: 0.7002\n",
      "Epoch 10/10\n",
      "1090/1090 [==============================] - 3s 3ms/step - loss: 0.7279 - val_loss: 0.6998\n"
     ]
    },
    {
     "data": {
      "text/plain": [
       "<tensorflow.python.keras.callbacks.History at 0x2a72f5eb220>"
      ]
     },
     "execution_count": 9,
     "metadata": {},
     "output_type": "execute_result"
    }
   ],
   "source": [
    "model = tf.keras.Sequential([\n",
    "    tf.keras.layers.Dense(32, activation='linear'),\n",
    "    tf.keras.layers.Dense(64, activation='linear'),\n",
    "    tf.keras.layers.Dense(128, activation='linear'),\n",
    "    tf.keras.layers.Dense(256, activation='linear'),\n",
    "    tf.keras.layers.Dense(128, activation='linear'),\n",
    "    tf.keras.layers.Dense(64, activation='linear'),\n",
    "    tf.keras.layers.Dense(32, activation='linear')\n",
    "])\n",
    "model.compile(optimizer='sgd', loss=losses.MeanSquaredError())\n",
    "# model.compile(optimizer='sgd', loss=losses.CosineSimilarity(axis=1))\n",
    "\n",
    "\n",
    "model.fit(x_train, y_train,\n",
    "          epochs=10,\n",
    "          batch_size=256,\n",
    "          shuffle=True,\n",
    "          validation_data=(x_test, y_test))"
   ]
  },
  {
   "cell_type": "markdown",
   "metadata": {
    "pycharm": {
     "name": "#%% md\n"
    }
   },
   "source": [
    "## Compare the output-SNR of the neural network with the baseline"
   ]
  },
  {
   "cell_type": "code",
   "execution_count": 10,
   "metadata": {
    "pycharm": {
     "name": "#%%\n"
    }
   },
   "outputs": [
    {
     "data": {
      "text/plain": [
       "<matplotlib.legend.Legend at 0x2a72e300bb0>"
      ]
     },
     "execution_count": 10,
     "metadata": {},
     "output_type": "execute_result"
    },
    {
     "data": {
      "image/png": "[encoded data removed]",
      "text/plain": [
       "<Figure size 432x288 with 1 Axes>"
      ]
     },
     "metadata": {
      "needs_background": "light"
     },
     "output_type": "display_data"
    }
   ],
   "source": [
    "# Use the NN to predict the new data\n",
    "pred = model(scale_in.transform(X)).numpy()\n",
    "\n",
    "# Find the complex data\n",
    "pred = pred[:, :16] + 1j * pred[:, 16:]\n",
    "pred = pred.reshape(nx, nsnr, nrx)\n",
    "\n",
    "# Baseline data\n",
    "base = y_rffe.reshape(nx, nsnr, nrx)\n",
    "\n",
    "# Baseline data\n",
    "gold = y_ant.reshape(nx, nsnr, nrx)\n",
    "\n",
    "pred_snr = np.zeros(nsnr)\n",
    "base_snr = np.zeros(nsnr)\n",
    "gold_snr = np.zeros(nsnr)\n",
    "\n",
    "for isnr in range(nsnr):\n",
    "    pred_snr[isnr] = snr(pred[:, isnr, :])\n",
    "    base_snr[isnr] = snr(base[:, isnr, :])\n",
    "    gold_snr[isnr] = snr(gold[:, isnr, :])\n",
    "\n",
    "plt.plot(power_in, base_snr, 'bs')\n",
    "plt.plot(power_in, pred_snr, 'rd')\n",
    "plt.plot(power_in, gold_snr, 'gx')\n",
    "plt.grid()\n",
    "plt.xlabel('Receive power per antenna [dBm]')\n",
    "plt.ylabel('Output SNR $\\;(\\gamma_\\mathrm{out})\\;$ [dB]')\n",
    "plt.legend(['Reference', 'DNN', 'Genie'])"
   ]
  },
  {
   "cell_type": "code",
   "execution_count": null,
   "metadata": {},
   "outputs": [],
   "source": []
  }
 ],
 "metadata": {
  "kernelspec": {
   "display_name": "Python [conda env:tfgpu] *",
   "language": "python",
   "name": "conda-env-tfgpu-py"
  },
  "language_info": {
   "codemirror_mode": {
    "name": "ipython",
    "version": 3
   },
   "file_extension": ".py",
   "mimetype": "text/x-python",
   "name": "python",
   "nbconvert_exporter": "python",
   "pygments_lexer": "ipython3",
   "version": "3.8.5"
  }
 },
 "nbformat": 4,
 "nbformat_minor": 1
}
