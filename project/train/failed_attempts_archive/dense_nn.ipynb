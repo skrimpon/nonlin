{
 "cells": [
  {
   "cell_type": "markdown",
   "metadata": {
    "collapsed": true,
    "pycharm": {
     "name": "#%% md\n"
    }
   },
   "source": [
    "# Hardware Impairment mitigation with Dense Neural Network\n",
    "\n",
    "## (incomplete) Description:\n",
    "\n",
    "We create a SIMO system with $n$ rx antenna and $m$ tx symbols\n",
    "\n",
    "For the transmitter, we generate the $x \\in \\mathbb{C}^{m \\times 1}$ tx symbols\n",
    "based on a given distribution. For the channel, we consider a known channel\n",
    "matrix $W \\in \\mathbb{C}^{m \\times n}$ at the receiver. The received symbols for each antenna are:\n",
    "$$ r_i = w_i \\, x_i + \\eta_i,$$\n",
    "where $r_i, w_i, \\eta_i \\in \\mathbb{C}^{1 \\times n}$ and $\\eta_i$ is the thermal noise.\n",
    "The actions of the RF front-end are described by a non-linear function $\\Phi$:\n",
    "\n",
    "$$ y_i = \\Phi(r_i)$$\n",
    "To measure the output SNR we first do the beamforming with the known channel matrix $w_i$\n",
    "$$ \\hat{x}_i = \\frac{y_i w_i^H}{\\|w_i\\|^2} $$\n",
    "\n",
    "To measure the SNR we will take a linear estimate of $x$ with $\\hat{x} = a \\, x + d$ and\n",
    "$d \\sim CN(0, \\mathbb{E}|\\hat{x}-a \\, x|^2)$. First we find $a$,\n",
    "\n",
    "$$ a = \\frac{\\sqrt{m}}{m} \\frac{\\hat{x}^H x }{\\|x\\|^2}$$\n",
    "\n",
    "Then, we find the noise variance of $d$:\n",
    "\n",
    "$$ \\sigma_d = \\mathbb{E} \\left[ |\\hat{x}-a\\,x|^2 \\right]$$\n",
    "\n",
    "To find the output-SNR:\n",
    "$$ \\gamma_{out} = \\left( \\frac{|a| \\, \\sigma_x}{\\sigma_d} \\right)^2$$"
   ]
  },
  {
   "cell_type": "markdown",
   "metadata": {},
   "source": [
    "## Import TensorFlow and other libraries"
   ]
  },
  {
   "cell_type": "code",
   "execution_count": 1,
   "metadata": {
    "pycharm": {
     "name": "#%% code\n"
    }
   },
   "outputs": [],
   "source": [
    "import numpy as np\n",
    "import pandas as pd\n",
    "import tensorflow as tf\n",
    "\n",
    "from sklearn.preprocessing import StandardScaler, Normalizer,PowerTransformer\n",
    "from sklearn.model_selection import train_test_split\n",
    "from tensorflow.keras import losses\n",
    "\n",
    "import matplotlib.pyplot as plt"
   ]
  },
  {
   "cell_type": "markdown",
   "metadata": {
    "pycharm": {
     "name": "#%% md\n"
    }
   },
   "source": [
    "## Parameter definition"
   ]
  },
  {
   "cell_type": "code",
   "execution_count": 2,
   "metadata": {
    "pycharm": {
     "name": "#%%\n"
    }
   },
   "outputs": [],
   "source": [
    "# Design id\n",
    "#\n",
    "# * 0: Non-linear front-end with ADC quantization\n",
    "# * 1: Non-linear front-end without ADC quantization\n",
    "# * 2: Linear front-end with ADC quantization\n",
    "# * 3: Linear front-end without ADC quantization\n",
    "id = 2\n",
    "it = 1      # iteration\n",
    "\n",
    "nrx = 16    # num of receiver antennas\n",
    "nsnr = 31   # num of snr points\n",
    "nx = 10000  # num of tx samples"
   ]
  },
  {
   "cell_type": "markdown",
   "metadata": {},
   "source": [
    "## Read the data fromt the input files"
   ]
  },
  {
   "cell_type": "code",
   "execution_count": null,
   "metadata": {
    "pycharm": {
     "name": "#%% code\n"
    }
   },
   "outputs": [],
   "source": [
    "df = pd.read_csv(r'../../datasets/rx_1/idata_'+str(it)+'.csv')\n",
    "# Random tx data\n",
    "x = np.char.replace(np.array(df['x'],dtype=str),'i','j').astype(np.complex)\n",
    "\n",
    "# Channel w\n",
    "w = np.array([np.char.replace(np.array(df['w_'+str(i+1)],dtype=str),'i','j').astype(np.complex)\n",
    "              for i in range(nrx)], dtype=complex)\n",
    "\n",
    "y_ant = np.array([np.char.replace(np.array(df['yant_'+str(isnr*nrx+irx+1)],dtype=str),'i','j').astype(np.complex)\n",
    "              for isnr in range(nsnr) for irx in range(nrx) ], dtype=complex).T.reshape(nx*nsnr,nrx)\n",
    "\n",
    "df = pd.read_csv(r'../../datasets/rx_1/odata_'+str(id+1)+'_'+str(it)+'.csv')\n",
    "y_rffe = np.array([np.char.replace(np.array(df['yrffe_'+str(isnr*nrx+irx+1)],dtype=str),'i','j').astype(np.complex)\n",
    "                    for isnr in range(nsnr) for irx in range(nrx)]).T.reshape(nx*nsnr,nrx)\n",
    "\n",
    "df = pd.read_csv(r'../../datasets/rx_1/param_1_'+str(id+1)+'_'+str(it)+'.csv')\n",
    "power_in = df['Pin']\n",
    "\n",
    "# Print the shape for some of the arrays\n",
    "print(f'y_ant shape: {y_ant.shape}')\n",
    "print(f'y_rffe shape: {y_rffe.shape}')"
   ]
  },
  {
   "cell_type": "markdown",
   "metadata": {
    "pycharm": {
     "name": "#%% md\n"
    }
   },
   "source": [
    "## Define some helper functions"
   ]
  },
  {
   "cell_type": "code",
   "execution_count": null,
   "metadata": {
    "pycharm": {
     "name": "#%% code\n"
    }
   },
   "outputs": [],
   "source": [
    "def snr(Phi):\n",
    "    xh = sum(Phi.T*np.conj(w),0)/np.sum(np.abs(w)**2,0)\n",
    "    a = np.mean(np.conj(xh)*x)/np.mean(np.abs(x)**2)\n",
    "    d_var = np.mean(np.abs(xh - a*x)**2)\n",
    "    snr_out = 10*np.log10(np.abs(a)**2/d_var)\n",
    "    return snr_out"
   ]
  },
  {
   "cell_type": "markdown",
   "metadata": {
    "pycharm": {
     "name": "#%% md\n"
    }
   },
   "source": [
    "## Prepare the training and test data"
   ]
  },
  {
   "cell_type": "code",
   "execution_count": null,
   "metadata": {
    "pycharm": {
     "name": "#%%\n"
    }
   },
   "outputs": [],
   "source": [
    "r = np.hstack((y_ant.real, y_ant.imag))\n",
    "X = np.hstack((y_rffe.real, y_rffe.imag))\n",
    "\n",
    "x_train, x_test, y_train, y_test = train_test_split(X, r, shuffle=True, test_size=0.1)\n",
    "\n"
   ]
  },
  {
   "cell_type": "code",
   "execution_count": null,
   "metadata": {},
   "outputs": [],
   "source": [
    "# scale_in = StandardScaler(with_mean=True, with_std=True).fit(x_train)\n",
    "# scale_out = StandardScaler(with_mean=True, with_std=True).fit(y_train)\n",
    "scale_in = PowerTransformer().fit(x_train)\n",
    "scale_out = PowerTransformer().fit(y_train)\n",
    "\n",
    "x_train = scale_in.transform(x_train)\n",
    "x_test = scale_in.transform(x_test)\n",
    "y_train = scale_out.transform(y_train)\n",
    "y_test = scale_out.transform(y_test)\n",
    "\n",
    "print(f'x_train shape: {x_train.shape}')"
   ]
  },
  {
   "cell_type": "code",
   "execution_count": null,
   "metadata": {},
   "outputs": [],
   "source": [
    "x_train[:5,:]"
   ]
  },
  {
   "cell_type": "markdown",
   "metadata": {
    "pycharm": {
     "name": "#%% md\n"
    }
   },
   "source": [
    "## Create and train the neural network"
   ]
  },
  {
   "cell_type": "code",
   "execution_count": null,
   "metadata": {
    "pycharm": {
     "name": "#%%\n"
    }
   },
   "outputs": [],
   "source": [
    "model = tf.keras.Sequential([\n",
    "    tf.keras.layers.Dense(32, activation='linear'),\n",
    "    tf.keras.layers.Dense(64, activation='linear'),\n",
    "    tf.keras.layers.Dense(128, activation='linear'),\n",
    "    tf.keras.layers.Dense(256, activation='linear'),\n",
    "    tf.keras.layers.Dense(128, activation='linear'),\n",
    "    tf.keras.layers.Dense(64, activation='linear'),\n",
    "    tf.keras.layers.Dense(32, activation='linear')\n",
    "])\n",
    "model.compile(optimizer='sgd', loss=losses.MeanSquaredError())\n",
    "# model.compile(optimizer='sgd', loss=losses.CosineSimilarity(axis=1))\n",
    "\n",
    "\n",
    "model.fit(x_train, y_train,\n",
    "          epochs=10,\n",
    "          batch_size=256,\n",
    "          shuffle=True,\n",
    "          validation_data=(x_test, y_test))"
   ]
  },
  {
   "cell_type": "markdown",
   "metadata": {
    "pycharm": {
     "name": "#%% md\n"
    }
   },
   "source": [
    "## Compare the output-SNR of the neural network with the baseline"
   ]
  },
  {
   "cell_type": "code",
   "execution_count": null,
   "metadata": {
    "pycharm": {
     "name": "#%%\n"
    }
   },
   "outputs": [],
   "source": [
    "# Use the NN to predict the new data\n",
    "pred = model(scale_in.transform(X)).numpy()\n",
    "\n",
    "# Find the complex data\n",
    "pred = pred[:, :16] + 1j * pred[:, 16:]\n",
    "pred = pred.reshape(nx, nsnr, nrx)\n",
    "\n",
    "# Baseline data\n",
    "base = y_rffe.reshape(nx, nsnr, nrx)\n",
    "\n",
    "# Baseline data\n",
    "gold = y_ant.reshape(nx, nsnr, nrx)\n",
    "\n",
    "pred_snr = np.zeros(nsnr)\n",
    "base_snr = np.zeros(nsnr)\n",
    "gold_snr = np.zeros(nsnr)\n",
    "\n",
    "for isnr in range(nsnr):\n",
    "    pred_snr[isnr] = snr(pred[:, isnr, :])\n",
    "    base_snr[isnr] = snr(base[:, isnr, :])\n",
    "    gold_snr[isnr] = snr(gold[:, isnr, :])\n",
    "\n",
    "plt.plot(power_in, base_snr, 'bs')\n",
    "plt.plot(power_in, pred_snr, 'rd')\n",
    "plt.plot(power_in, gold_snr, 'gx')\n",
    "plt.grid()\n",
    "plt.xlabel('Receive power per antenna [dBm]')\n",
    "plt.ylabel('Output SNR $\\;(\\gamma_\\mathrm{out})\\;$ [dB]')\n",
    "plt.legend(['Reference', 'DNN', 'Genie'])"
   ]
  },
  {
   "cell_type": "code",
   "execution_count": null,
   "metadata": {},
   "outputs": [],
   "source": []
  },
  {
   "cell_type": "code",
   "execution_count": null,
   "metadata": {},
   "outputs": [],
   "source": []
  },
  {
   "cell_type": "code",
   "execution_count": null,
   "metadata": {},
   "outputs": [],
   "source": []
  }
 ],
 "metadata": {
  "kernelspec": {
   "name": "python3",
   "language": "python",
   "display_name": "Python 3"
  },
  "language_info": {
   "codemirror_mode": {
    "name": "ipython",
    "version": 3
   },
   "file_extension": ".py",
   "mimetype": "text/x-python",
   "name": "python",
   "nbconvert_exporter": "python",
   "pygments_lexer": "ipython3",
   "version": "3.8.5"
  }
 },
 "nbformat": 4,
 "nbformat_minor": 1
}