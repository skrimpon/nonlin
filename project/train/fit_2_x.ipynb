{
 "cells": [
  {
   "cell_type": "code",
   "execution_count": 1,
   "metadata": {
    "pycharm": {
     "name": "#%% code\n"
    }
   },
   "outputs": [],
   "source": [
    "import numpy as np\n",
    "import pandas as pd\n",
    "import tensorflow as tf\n",
    "\n",
    "from sklearn.preprocessing import StandardScaler, Normalizer,PowerTransformer\n",
    "from sklearn.model_selection import train_test_split\n",
    "from tensorflow.keras import losses\n",
    "\n",
    "import matplotlib.pyplot as plt\n",
    "\n",
    "# Design id\n",
    "#\n",
    "# * 0: Non-linear front-end with ADC quantization\n",
    "# * 1: Non-linear front-end without ADC quantization\n",
    "# * 2: Linear front-end with ADC quantization\n",
    "# * 3: Linear front-end without ADC quantization\n",
    "id = 1\n",
    "it = 1      # iteration\n",
    "\n",
    "nrx = 16    # num of receiver antennas\n",
    "nsnr = 31   # num of snr points\n",
    "nx = 10000  # num of tx samples"
   ]
  },
  {
   "cell_type": "markdown",
   "metadata": {},
   "source": [
    "## Read the data fromt the input files"
   ]
  },
  {
   "cell_type": "code",
   "execution_count": 2,
   "metadata": {
    "pycharm": {
     "name": "#%% code\n"
    }
   },
   "outputs": [
    {
     "name": "stdout",
     "output_type": "stream",
     "text": [
      "y_ant shape: (310000, 16)\n",
      "y_rffe shape: (310000, 16)\n"
     ]
    }
   ],
   "source": [
    "df = pd.read_csv(r'../../datasets/rx_1/idata_'+str(it)+'.csv')\n",
    "# Random tx data\n",
    "x = np.char.replace(np.array(df['x'],dtype=str),'i','j').astype(np.complex)\n",
    "\n",
    "# Channel w\n",
    "w = np.array([np.char.replace(np.array(df['w_'+str(i+1)],dtype=str),'i','j').astype(np.complex)\n",
    "              for i in range(nrx)], dtype=complex)\n",
    "\n",
    "y_ant = np.array([np.char.replace(np.array(df['yant_'+str(isnr*nrx+irx+1)],dtype=str),'i','j').astype(np.complex)\n",
    "              for isnr in range(nsnr) for irx in range(nrx) ], dtype=complex).T.reshape(nx*nsnr,nrx)\n",
    "\n",
    "df = pd.read_csv(r'../../datasets/rx_1/odata_'+str(id+1)+'_'+str(it)+'.csv')\n",
    "y_rffe = np.array([np.char.replace(np.array(df['yrffe_'+str(isnr*nrx+irx+1)],dtype=str),'i','j').astype(np.complex)\n",
    "                    for isnr in range(nsnr) for irx in range(nrx)]).T.reshape(nx*nsnr,nrx)\n",
    "\n",
    "df = pd.read_csv(r'../../datasets/rx_1/param_1_'+str(id+1)+'_'+str(it)+'.csv')\n",
    "power_in = df['Pin']\n",
    "\n",
    "# Print the shape for some of the arrays\n",
    "print(f'y_ant shape: {y_ant.shape}')\n",
    "print(f'y_rffe shape: {y_rffe.shape}')"
   ]
  },
  {
   "cell_type": "code",
   "execution_count": 3,
   "metadata": {},
   "outputs": [
    {
     "data": {
      "text/plain": [
       "(10000, 16)"
      ]
     },
     "execution_count": 3,
     "metadata": {},
     "output_type": "execute_result"
    }
   ],
   "source": [
    "wx = (w*x).transpose()\n",
    "wx.shape"
   ]
  },
  {
   "cell_type": "code",
   "execution_count": 4,
   "metadata": {},
   "outputs": [
    {
     "data": {
      "text/plain": [
       "(310000, 16)"
      ]
     },
     "execution_count": 4,
     "metadata": {},
     "output_type": "execute_result"
    }
   ],
   "source": [
    "wx = np.repeat(wx,[nsnr],axis=0)\n",
    "wx.shape"
   ]
  },
  {
   "cell_type": "code",
   "execution_count": 19,
   "metadata": {},
   "outputs": [
    {
     "name": "stdout",
     "output_type": "stream",
     "text": [
      "y_ant shape: (10000, 31, 16)\n",
      "y_rffe shape: (10000, 31, 16)\n",
      "wx shape: (10000, 31, 16)\n"
     ]
    }
   ],
   "source": [
    "# Baseline data\n",
    "y_rffe = y_rffe.reshape(nx, nsnr, nrx)\n",
    "\n",
    "# Baseline data\n",
    "y_ant = y_ant.reshape(nx, nsnr, nrx)\n",
    "\n",
    "wx = wx.reshape(nx, nsnr, nrx)\n",
    "\n",
    "print(f'y_ant shape: {y_ant.shape}')\n",
    "print(f'y_rffe shape: {y_rffe.shape}')\n",
    "print(f'wx shape: {wx.shape}')"
   ]
  },
  {
   "cell_type": "code",
   "execution_count": 6,
   "metadata": {},
   "outputs": [],
   "source": [
    "y_ant_norm = y_ant / np.linalg.norm(y_ant,axis=0)\n",
    "y_rffe_norm = y_rffe / np.linalg.norm(y_rffe,axis=0)\n",
    "wx_norm = wx / np.linalg.norm(wx,axis=0)"
   ]
  },
  {
   "cell_type": "markdown",
   "metadata": {},
   "source": [
    "## Define some helper functions"
   ]
  },
  {
   "cell_type": "code",
   "execution_count": 7,
   "metadata": {},
   "outputs": [],
   "source": [
    "def snr(Phi):\n",
    "    xh = sum(Phi.T*np.conj(w),0)/np.sum(np.abs(w)**2,0)\n",
    "    a = np.mean(np.conj(xh)*x)/np.mean(np.abs(x)**2)\n",
    "    d_var = np.mean(np.abs(xh - a*x)**2)\n",
    "    snr_out = 10*np.log10(np.abs(a)**2/d_var)\n",
    "    return snr_out"
   ]
  },
  {
   "cell_type": "code",
   "execution_count": 8,
   "metadata": {},
   "outputs": [
    {
     "data": {
      "text/plain": [
       "<matplotlib.legend.Legend at 0x1e58e32ce20>"
      ]
     },
     "execution_count": 8,
     "metadata": {},
     "output_type": "execute_result"
    },
    {
     "data": {
      "image/png": "[encoded data removed]",
      "text/plain": [
       "<Figure size 432x288 with 1 Axes>"
      ]
     },
     "metadata": {
      "needs_background": "light"
     },
     "output_type": "display_data"
    }
   ],
   "source": [
    "\n",
    "# Baseline data\n",
    "base = y_rffe_norm\n",
    "\n",
    "# Baseline data\n",
    "gold = y_ant_norm\n",
    "\n",
    "base_snr = np.zeros(nsnr)\n",
    "gold_snr = np.zeros(nsnr)\n",
    "wx_snr = np.zeros(nsnr)\n",
    "\n",
    "for isnr in range(nsnr):\n",
    "    base_snr[isnr] = snr(base[:, isnr, :])\n",
    "    gold_snr[isnr] = snr(gold[:, isnr, :])\n",
    "    wx_snr[isnr] = snr(wx_norm[:, isnr, :])\n",
    "\n",
    "plt.plot(power_in, base_snr, 'bs')\n",
    "plt.plot(power_in, gold_snr, 'gx')\n",
    "plt.plot(power_in, wx_snr, 'r^')\n",
    "plt.grid()\n",
    "plt.xlabel('Receive power per antenna [dBm]')\n",
    "plt.ylabel('Output SNR $\\;(\\gamma_\\mathrm{out})\\;$ [dB]')\n",
    "plt.legend(['Reference', 'Genie','Wx'])"
   ]
  },
  {
   "cell_type": "markdown",
   "metadata": {
    "pycharm": {
     "name": "#%% md\n"
    }
   },
   "source": [
    "## Prepare the training and test data"
   ]
  },
  {
   "cell_type": "code",
   "execution_count": 9,
   "metadata": {},
   "outputs": [],
   "source": [
    "y_ant_norm_all = y_ant_norm.reshape(nx*nsnr,nrx)\n",
    "y_rffe_norm_all = y_rffe_norm.reshape(nx*nsnr,nrx)\n",
    "wx_norm_all = wx_norm.reshape(nx*nsnr,nrx)\n",
    "r = np.hstack((wx_norm_all.real, wx_norm_all.imag))\n",
    "X = np.hstack((y_rffe_norm_all.real, y_rffe_norm_all.imag))"
   ]
  },
  {
   "cell_type": "code",
   "execution_count": 10,
   "metadata": {},
   "outputs": [
    {
     "name": "stdout",
     "output_type": "stream",
     "text": [
      "x_train shape: (279000, 32)\n"
     ]
    }
   ],
   "source": [
    "x_train, x_test, y_train, y_test = train_test_split(X, r, shuffle=True, test_size=0.1)\n",
    "\n",
    "\n",
    "# scale_in = StandardScaler(with_mean=True, with_std=True).fit(x_train)\n",
    "# scale_out = StandardScaler(with_mean=True, with_std=True).fit(y_train)\n",
    "scale_in = PowerTransformer().fit(x_train)\n",
    "scale_out = PowerTransformer().fit(y_train)\n",
    "\n",
    "x_train = scale_in.transform(x_train)\n",
    "x_test = scale_in.transform(x_test)\n",
    "y_train = scale_out.transform(y_train)\n",
    "y_test = scale_out.transform(y_test)\n",
    "\n",
    "print(f'x_train shape: {x_train.shape}')"
   ]
  },
  {
   "cell_type": "code",
   "execution_count": 11,
   "metadata": {},
   "outputs": [
    {
     "data": {
      "text/plain": [
       "array([[ 0.3619969 , -0.35835756, -0.36936388, -0.25160535, -0.18657381,\n",
       "        -0.21436782, -0.36411924, -0.12826477, -0.40820758,  0.3160973 ,\n",
       "        -0.45335291,  0.27447852,  0.20806813, -0.21110829, -0.16089139,\n",
       "        -0.22921187, -0.29709169,  0.10713772,  0.25487256, -0.2291815 ,\n",
       "         0.38414527,  0.3562614 ,  0.05383513, -0.39272165, -0.06366589,\n",
       "         0.180018  , -0.01428805,  0.34128559, -0.30535923,  0.3803136 ,\n",
       "         0.35912406, -0.29743431],\n",
       "       [ 2.21227143, -1.9735995 ,  2.10767939, -2.33752812, -2.41389118,\n",
       "        -0.13758176,  0.55495629,  2.29479952, -2.33158382, -0.47131863,\n",
       "         2.52365012, -1.5378263 ,  1.80429143, -0.9701489 , -2.06611686,\n",
       "        -1.7290372 ,  1.17459805,  1.48691676,  1.49349471,  0.8866057 ,\n",
       "        -0.81446173,  2.5434113 ,  2.45241003,  1.23490811, -1.05434664,\n",
       "        -2.52804636, -0.28806974,  2.03494325,  1.68530141, -2.32627473,\n",
       "        -1.5120001 , -1.83248458],\n",
       "       [ 1.19492604, -1.44012132,  1.30093189, -1.28498981,  1.90852859,\n",
       "        -0.74365244, -1.6817615 ,  0.11006625,  1.43824752,  1.66882172,\n",
       "        -1.14479841, -1.09750139, -0.12405933,  1.82983912, -1.2252002 ,\n",
       "         1.3606405 , -1.56576658, -1.39795686, -1.56329837, -1.5103402 ,\n",
       "        -0.66303239, -1.88809172, -0.92951313, -1.96728027,  1.50594413,\n",
       "         0.97039183,  1.69968766,  1.6469285 , -2.03246662, -0.79687502,\n",
       "        -1.55785389, -1.36366516],\n",
       "       [-1.53733432,  1.42569545,  0.27739663, -1.51114796, -0.21138196,\n",
       "         0.73349189,  0.04413585, -1.51933066, -0.26886238,  0.73884788,\n",
       "         0.72534697,  0.80506008, -0.23306228,  0.76444142, -1.00011394,\n",
       "        -1.48478338,  0.86826065,  0.50225564,  1.06533509, -0.19103846,\n",
       "        -1.6951442 , -1.16046542, -1.26977923, -0.9573537 , -1.75992786,\n",
       "         0.6447341 ,  1.01988503,  1.15360268,  1.01879709, -0.71999663,\n",
       "        -0.90372913, -1.2967602 ],\n",
       "       [ 0.98679537,  1.20532677, -1.34776447,  1.13521912, -1.06996736,\n",
       "        -1.40715484,  1.19265872, -0.52688715,  1.0912316 , -1.04766539,\n",
       "        -0.29233711,  0.97039836, -1.25105911, -1.19923865, -0.74843948,\n",
       "         0.1682197 ,  0.86894391, -0.69946867, -0.19430656,  0.53307733,\n",
       "         0.65123924,  0.10887785,  0.18948094,  1.02877834,  0.05117933,\n",
       "        -1.0098136 ,  1.20704843,  0.83712897,  0.3861805 ,  0.56494049,\n",
       "         0.987685  , -1.29544372]])"
      ]
     },
     "execution_count": 11,
     "metadata": {},
     "output_type": "execute_result"
    }
   ],
   "source": [
    "x_train[:5,:]"
   ]
  },
  {
   "cell_type": "markdown",
   "metadata": {
    "pycharm": {
     "name": "#%% md\n"
    }
   },
   "source": [
    "## Create and train the neural network"
   ]
  },
  {
   "cell_type": "code",
   "execution_count": 12,
   "metadata": {
    "pycharm": {
     "name": "#%%\n"
    }
   },
   "outputs": [
    {
     "name": "stdout",
     "output_type": "stream",
     "text": [
      "Epoch 1/10\n",
      "1090/1090 [==============================] - 5s 4ms/step - loss: 0.7670 - val_loss: 0.5161\n",
      "Epoch 2/10\n",
      "1090/1090 [==============================] - 3s 3ms/step - loss: 0.4956 - val_loss: 0.4490\n",
      "Epoch 3/10\n",
      "1090/1090 [==============================] - 4s 3ms/step - loss: 0.4403 - val_loss: 0.4209\n",
      "Epoch 4/10\n",
      "1090/1090 [==============================] - 4s 3ms/step - loss: 0.4196 - val_loss: 0.4137\n",
      "Epoch 5/10\n",
      "1090/1090 [==============================] - 4s 3ms/step - loss: 0.4149 - val_loss: 0.4103\n",
      "Epoch 6/10\n",
      "1090/1090 [==============================] - 4s 4ms/step - loss: 0.4101 - val_loss: 0.4024\n",
      "Epoch 7/10\n",
      "1090/1090 [==============================] - 4s 3ms/step - loss: 0.4019 - val_loss: 0.3966\n",
      "Epoch 8/10\n",
      "1090/1090 [==============================] - 3s 3ms/step - loss: 0.3987 - val_loss: 0.3959\n",
      "Epoch 9/10\n",
      "1090/1090 [==============================] - 3s 3ms/step - loss: 0.3984 - val_loss: 0.3959\n",
      "Epoch 10/10\n",
      "1090/1090 [==============================] - 3s 3ms/step - loss: 0.3981 - val_loss: 0.3959\n"
     ]
    },
    {
     "data": {
      "text/plain": [
       "<tensorflow.python.keras.callbacks.History at 0x1e5aaa6b0a0>"
      ]
     },
     "execution_count": 12,
     "metadata": {},
     "output_type": "execute_result"
    }
   ],
   "source": [
    "model = tf.keras.Sequential([\n",
    "    tf.keras.layers.Dense(32, activation='linear'),\n",
    "    tf.keras.layers.Dense(64, activation='linear'),\n",
    "    tf.keras.layers.Dense(128, activation='linear'),\n",
    "    tf.keras.layers.Dense(256, activation='linear'),\n",
    "    tf.keras.layers.Dense(128, activation='linear'),\n",
    "    tf.keras.layers.Dense(64, activation='linear'),\n",
    "    tf.keras.layers.Dense(32, activation='linear')\n",
    "])\n",
    "model.compile(optimizer='sgd', loss=losses.MeanSquaredError())\n",
    "# model.compile(optimizer='sgd', loss=losses.CosineSimilarity(axis=1))\n",
    "\n",
    "\n",
    "model.fit(x_train, y_train,\n",
    "          epochs=10,\n",
    "          batch_size=256,\n",
    "          shuffle=True,\n",
    "          validation_data=(x_test, y_test))"
   ]
  },
  {
   "cell_type": "markdown",
   "metadata": {
    "pycharm": {
     "name": "#%% md\n"
    }
   },
   "source": [
    "## Compare the output-SNR of the neural network with the baseline"
   ]
  },
  {
   "cell_type": "code",
   "execution_count": 16,
   "metadata": {},
   "outputs": [
    {
     "data": {
      "text/plain": [
       "(310000, 32)"
      ]
     },
     "execution_count": 16,
     "metadata": {},
     "output_type": "execute_result"
    }
   ],
   "source": [
    "X.shape"
   ]
  },
  {
   "cell_type": "code",
   "execution_count": 18,
   "metadata": {
    "pycharm": {
     "name": "#%%\n"
    }
   },
   "outputs": [
    {
     "data": {
      "text/plain": [
       "<matplotlib.legend.Legend at 0x1e58a3ccac0>"
      ]
     },
     "execution_count": 18,
     "metadata": {},
     "output_type": "execute_result"
    },
    {
     "data": {
      "image/png": "[encoded data removed]",
      "text/plain": [
       "<Figure size 432x288 with 1 Axes>"
      ]
     },
     "metadata": {
      "needs_background": "light"
     },
     "output_type": "display_data"
    }
   ],
   "source": [
    "# Use the NN to predict the new data\n",
    "pred = model(scale_in.transform(X)).numpy()\n",
    "\n",
    "# Find the complex data\n",
    "pred = pred[:, :16] + 1j * pred[:, 16:]\n",
    "pred = pred.reshape(nx, nsnr, nrx)\n",
    "\n",
    "# Baseline data\n",
    "base = y_rffe.reshape(nx, nsnr, nrx)\n",
    "\n",
    "# Baseline data\n",
    "gold = y_ant.reshape(nx, nsnr, nrx)\n",
    "\n",
    "pred_snr = np.zeros(nsnr)\n",
    "base_snr = np.zeros(nsnr)\n",
    "gold_snr = np.zeros(nsnr)\n",
    "\n",
    "for isnr in range(nsnr):\n",
    "    pred_snr[isnr] = snr(pred[:, isnr, :])\n",
    "    base_snr[isnr] = snr(base[:, isnr, :])\n",
    "    gold_snr[isnr] = snr(gold[:, isnr, :])\n",
    "\n",
    "plt.plot(power_in, base_snr, 'bs')\n",
    "plt.plot(power_in, pred_snr, 'rd')\n",
    "plt.plot(power_in, gold_snr, 'gx')\n",
    "plt.grid()\n",
    "plt.xlabel('Receive power per antenna [dBm]')\n",
    "plt.ylabel('Output SNR $\\;(\\gamma_\\mathrm{out})\\;$ [dB]')\n",
    "plt.legend(['Reference', 'DNN', 'Genie'])"
   ]
  },
  {
   "cell_type": "code",
   "execution_count": null,
   "metadata": {},
   "outputs": [],
   "source": []
  }
 ],
 "metadata": {
  "kernelspec": {
   "display_name": "Python [conda env:tfgpu] *",
   "language": "python",
   "name": "conda-env-tfgpu-py"
  },
  "language_info": {
   "codemirror_mode": {
    "name": "ipython",
    "version": 3
   },
   "file_extension": ".py",
   "mimetype": "text/x-python",
   "name": "python",
   "nbconvert_exporter": "python",
   "pygments_lexer": "ipython3",
   "version": "3.8.5"
  }
 },
 "nbformat": 4,
 "nbformat_minor": 1
}
