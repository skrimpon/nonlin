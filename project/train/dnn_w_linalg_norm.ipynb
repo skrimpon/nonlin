{
 "cells": [
  {
   "cell_type": "markdown",
   "metadata": {
    "collapsed": true,
    "pycharm": {
     "name": "#%% md\n"
    }
   },
   "source": [
    "# Hardware Impairment mitigation with Dense Neural Network\n",
    "\n",
    "## (incomplete) Description:\n",
    "\n",
    "We create a SIMO system with $n$ rx antenna and $m$ tx symbols\n",
    "\n",
    "For the transmitter, we generate the $x \\in \\mathbb{C}^{m \\times 1}$ tx symbols\n",
    "based on a given distribution. For the channel, we consider a known channel\n",
    "matrix $W \\in \\mathbb{C}^{m \\times n}$ at the receiver. The received symbols for each antenna are:\n",
    "$$ r_i = w_i \\, x_i + \\eta_i,$$\n",
    "where $r_i, w_i, \\eta_i \\in \\mathbb{C}^{1 \\times n}$ and $\\eta_i$ is the thermal noise.\n",
    "The actions of the RF front-end are described by a non-linear function $\\Phi$:\n",
    "\n",
    "$$ y_i = \\Phi(r_i)$$\n",
    "To measure the output SNR we first do the beamforming with the known channel matrix $w_i$\n",
    "$$ \\hat{x}_i = \\frac{y_i w_i^H}{\\|w_i\\|^2} $$\n",
    "\n",
    "To measure the SNR we will take a linear estimate of $x$ with $\\hat{x} = a \\, x + d$ and\n",
    "$d \\sim CN(0, \\mathbb{E}|\\hat{x}-a \\, x|^2)$. First we find $a$,\n",
    "\n",
    "$$ a = \\frac{\\sqrt{m}}{m} \\frac{\\hat{x}^H x }{\\|x\\|^2}$$\n",
    "\n",
    "Then, we find the noise variance of $d$:\n",
    "\n",
    "$$ \\sigma_d = \\mathbb{E} \\left[ |\\hat{x}-a\\,x|^2 \\right]$$\n",
    "\n",
    "To find the output-SNR:\n",
    "$$ \\gamma_{out} = \\left( \\frac{|a| \\, \\sigma_x}{\\sigma_d} \\right)^2$$"
   ]
  },
  {
   "cell_type": "markdown",
   "metadata": {},
   "source": [
    "## Import TensorFlow and other libraries"
   ]
  },
  {
   "cell_type": "code",
   "execution_count": 1,
   "metadata": {
    "pycharm": {
     "name": "#%% code\n"
    }
   },
   "outputs": [],
   "source": [
    "import numpy as np\n",
    "import pandas as pd\n",
    "import tensorflow as tf\n",
    "\n",
    "from sklearn.preprocessing import StandardScaler, Normalizer,PowerTransformer\n",
    "from sklearn.model_selection import train_test_split\n",
    "from tensorflow.keras import losses\n",
    "\n",
    "import matplotlib.pyplot as plt"
   ]
  },
  {
   "cell_type": "markdown",
   "metadata": {
    "pycharm": {
     "name": "#%% md\n"
    }
   },
   "source": [
    "## Parameter definition"
   ]
  },
  {
   "cell_type": "code",
   "execution_count": 2,
   "metadata": {
    "pycharm": {
     "name": "#%%\n"
    }
   },
   "outputs": [],
   "source": [
    "# Design id\n",
    "#\n",
    "# * 0: Non-linear front-end with ADC quantization\n",
    "# * 1: Non-linear front-end without ADC quantization\n",
    "# * 2: Linear front-end with ADC quantization\n",
    "# * 3: Linear front-end without ADC quantization\n",
    "id = 2\n",
    "it = 1      # iteration\n",
    "\n",
    "nrx = 16    # num of receiver antennas\n",
    "nsnr = 31   # num of snr points\n",
    "nx = 10000  # num of tx samples"
   ]
  },
  {
   "cell_type": "markdown",
   "metadata": {},
   "source": [
    "## Read the data fromt the input files"
   ]
  },
  {
   "cell_type": "code",
   "execution_count": 3,
   "metadata": {
    "pycharm": {
     "name": "#%% code\n"
    }
   },
   "outputs": [
    {
     "name": "stdout",
     "output_type": "stream",
     "text": [
      "y_ant shape: (310000, 16)\n",
      "y_rffe shape: (310000, 16)\n"
     ]
    }
   ],
   "source": [
    "df = pd.read_csv(r'../../datasets/rx_1/idata_'+str(it)+'.csv')\n",
    "# Random tx data\n",
    "x = np.char.replace(np.array(df['x'],dtype=str),'i','j').astype(np.complex)\n",
    "\n",
    "# Channel w\n",
    "w = np.array([np.char.replace(np.array(df['w_'+str(i+1)],dtype=str),'i','j').astype(np.complex)\n",
    "              for i in range(nrx)], dtype=complex)\n",
    "\n",
    "y_ant = np.array([np.char.replace(np.array(df['yant_'+str(isnr*nrx+irx+1)],dtype=str),'i','j').astype(np.complex)\n",
    "              for isnr in range(nsnr) for irx in range(nrx) ], dtype=complex).T.reshape(nx*nsnr,nrx)\n",
    "\n",
    "df = pd.read_csv(r'../../datasets/rx_1/odata_'+str(id+1)+'_'+str(it)+'.csv')\n",
    "y_rffe = np.array([np.char.replace(np.array(df['yrffe_'+str(isnr*nrx+irx+1)],dtype=str),'i','j').astype(np.complex)\n",
    "                    for isnr in range(nsnr) for irx in range(nrx)]).T.reshape(nx*nsnr,nrx)\n",
    "\n",
    "df = pd.read_csv(r'../../datasets/rx_1/param_1_'+str(id+1)+'_'+str(it)+'.csv')\n",
    "power_in = df['Pin']\n",
    "\n",
    "# Print the shape for some of the arrays\n",
    "print(f'y_ant shape: {y_ant.shape}')\n",
    "print(f'y_rffe shape: {y_rffe.shape}')"
   ]
  },
  {
   "cell_type": "code",
   "execution_count": 4,
   "metadata": {},
   "outputs": [
    {
     "name": "stdout",
     "output_type": "stream",
     "text": [
      "y_ant shape: (10000, 31, 16)\n",
      "y_rffe shape: (10000, 31, 16)\n"
     ]
    }
   ],
   "source": [
    "# Baseline data\n",
    "y_rffe = y_rffe.reshape(nx, nsnr, nrx)\n",
    "\n",
    "# Baseline data\n",
    "y_ant = y_ant.reshape(nx, nsnr, nrx)\n",
    "\n",
    "print(f'y_ant shape: {y_ant.shape}')\n",
    "print(f'y_rffe shape: {y_rffe.shape}')"
   ]
  },
  {
   "cell_type": "code",
   "execution_count": 5,
   "metadata": {},
   "outputs": [],
   "source": [
    "y_ant_norm = y_ant / np.linalg.norm(y_ant,axis=0)\n",
    "y_rffe_norm = y_rffe / np.linalg.norm(y_rffe,axis=0)"
   ]
  },
  {
   "cell_type": "markdown",
   "metadata": {},
   "source": [
    "## Define some helper functions"
   ]
  },
  {
   "cell_type": "code",
   "execution_count": 6,
   "metadata": {},
   "outputs": [],
   "source": [
    "def snr(Phi):\n",
    "    xh = sum(Phi.T*np.conj(w),0)/np.sum(np.abs(w)**2,0)\n",
    "    a = np.mean(np.conj(xh)*x)/np.mean(np.abs(x)**2)\n",
    "    d_var = np.mean(np.abs(xh - a*x)**2)\n",
    "    snr_out = 10*np.log10(np.abs(a)**2/d_var)\n",
    "    return snr_out"
   ]
  },
  {
   "cell_type": "code",
   "execution_count": 7,
   "metadata": {},
   "outputs": [
    {
     "data": {
      "text/plain": [
       "<matplotlib.legend.Legend at 0x2579be628b0>"
      ]
     },
     "execution_count": 7,
     "metadata": {},
     "output_type": "execute_result"
    },
    {
     "data": {
      "image/png": "[encoded data removed]",
      "text/plain": [
       "<Figure size 432x288 with 1 Axes>"
      ]
     },
     "metadata": {
      "needs_background": "light"
     },
     "output_type": "display_data"
    }
   ],
   "source": [
    "\n",
    "# Baseline data\n",
    "base = y_rffe_norm\n",
    "\n",
    "# Baseline data\n",
    "gold = y_ant_norm\n",
    "\n",
    "base_snr = np.zeros(nsnr)\n",
    "gold_snr = np.zeros(nsnr)\n",
    "\n",
    "for isnr in range(nsnr):\n",
    "    base_snr[isnr] = snr(base[:, isnr, :])\n",
    "    gold_snr[isnr] = snr(gold[:, isnr, :])\n",
    "\n",
    "plt.plot(power_in, base_snr, 'bs')\n",
    "plt.plot(power_in, gold_snr, 'gx')\n",
    "plt.grid()\n",
    "plt.xlabel('Receive power per antenna [dBm]')\n",
    "plt.ylabel('Output SNR $\\;(\\gamma_\\mathrm{out})\\;$ [dB]')\n",
    "plt.legend(['Reference', 'Genie'])"
   ]
  },
  {
   "cell_type": "markdown",
   "metadata": {
    "pycharm": {
     "name": "#%% md\n"
    }
   },
   "source": [
    "## Prepare the training and test data"
   ]
  },
  {
   "cell_type": "code",
   "execution_count": 8,
   "metadata": {},
   "outputs": [],
   "source": [
    "y_ant_norm_all = y_ant_norm.reshape(nx*nsnr,nrx)\n",
    "y_rffe_norm_all = y_rffe_norm.reshape(nx*nsnr,nrx)\n",
    "r = np.hstack((y_ant_norm_all.real, y_ant_norm_all.imag))\n",
    "X = np.hstack((y_rffe_norm_all.real, y_rffe_norm_all.imag))"
   ]
  },
  {
   "cell_type": "code",
   "execution_count": 9,
   "metadata": {},
   "outputs": [
    {
     "name": "stdout",
     "output_type": "stream",
     "text": [
      "x_train shape: (279000, 32)\n"
     ]
    }
   ],
   "source": [
    "x_train, x_test, y_train, y_test = train_test_split(X, r, shuffle=True, test_size=0.1)\n",
    "\n",
    "\n",
    "# scale_in = StandardScaler(with_mean=True, with_std=True).fit(x_train)\n",
    "# scale_out = StandardScaler(with_mean=True, with_std=True).fit(y_train)\n",
    "scale_in = PowerTransformer().fit(x_train)\n",
    "scale_out = PowerTransformer().fit(y_train)\n",
    "\n",
    "x_train = scale_in.transform(x_train)\n",
    "x_test = scale_in.transform(x_test)\n",
    "y_train = scale_out.transform(y_train)\n",
    "y_test = scale_out.transform(y_test)\n",
    "\n",
    "print(f'x_train shape: {x_train.shape}')"
   ]
  },
  {
   "cell_type": "code",
   "execution_count": 10,
   "metadata": {},
   "outputs": [
    {
     "data": {
      "text/plain": [
       "array([[ 0.8438398 ,  1.48452008,  1.49324974, -0.15335047,  1.50271794,\n",
       "        -1.50429822,  1.50552062, -1.16922379, -1.49822515,  0.81825176,\n",
       "        -0.83174886, -1.49972243, -0.17236414,  0.15339778,  1.5047661 ,\n",
       "        -0.83779763,  1.17911142,  0.50376739,  0.49975597, -1.50637556,\n",
       "        -0.83258644, -0.8407388 , -0.18115072, -1.17288201,  0.16657209,\n",
       "         1.16208235,  1.15805683, -0.50239333, -1.4997759 , -1.5061557 ,\n",
       "         0.48609102,  1.49550957],\n",
       "       [-0.81493548, -0.83098701, -0.81989875, -0.48530748, -0.82755097,\n",
       "        -0.50059668,  0.16154387,  0.49345963, -0.83266491, -0.17645052,\n",
       "        -0.49739488,  0.82828973, -0.83679963,  0.81460113,  0.50373408,\n",
       "        -0.50271663, -0.48834712, -0.16368712,  0.49949524, -0.83899473,\n",
       "        -0.50170119,  0.81344656, -0.84156088,  0.83187202, -0.49599464,\n",
       "         0.82936338,  0.49423296,  0.16127752,  0.1656057 , -0.16976678,\n",
       "        -0.84326282,  0.50486939],\n",
       "       [ 0.51363762, -0.49962052, -0.15927278,  0.84057296, -0.82801519,\n",
       "         0.16829878, -0.8350512 ,  0.82426276, -0.83272027, -0.83753241,\n",
       "         0.83243238, -0.50551734,  0.49637235, -0.50599864,  0.50305764,\n",
       "        -0.83736115,  0.84580081, -0.82949532, -0.84202205, -0.50543934,\n",
       "        -0.50197887,  0.81326287,  0.48387854, -0.17214544,  0.4982255 ,\n",
       "         0.49646443, -0.50557124, -0.83457737,  0.8272474 , -0.83929971,\n",
       "        -0.5093851 , -0.15874206],\n",
       "       [ 2.16345532,  1.8173138 , -0.15893643, -2.15307785,  1.83534477,\n",
       "         1.50443064,  1.84646554,  1.15316179, -0.16531052,  0.15509593,\n",
       "         2.15174619,  0.49408811, -0.17216408,  1.14626841,  1.83599657,\n",
       "        -1.50655653, -0.15549351,  1.17372924,  2.15900189, -0.50607982,\n",
       "         0.49473011, -1.49771272,  0.48417239, -1.50464585,  2.15576828,\n",
       "        -1.84136488, -0.17170129,  1.81852543,  2.14072389,  1.51634364,\n",
       "         0.48543142,  1.49238281],\n",
       "       [ 0.84438358,  2.47686673,  0.50166307,  0.84058668,  2.50451121,\n",
       "         2.17362334,  1.16708963, -0.50267513,  0.83700216, -1.16929383,\n",
       "         1.81948353, -2.16093071, -2.47624954,  2.14169077,  0.50316557,\n",
       "        -0.50244423, -2.15161186, -0.83016084,  2.49209857, -2.17391652,\n",
       "        -0.50176163, -1.49856258, -2.14961924, -2.50458865,  2.49037752,\n",
       "        -2.17458085, -1.50817824,  1.48788905,  0.49576767, -1.50574949,\n",
       "         2.46128593,  2.47843423]])"
      ]
     },
     "execution_count": 10,
     "metadata": {},
     "output_type": "execute_result"
    }
   ],
   "source": [
    "x_train[:5,:]"
   ]
  },
  {
   "cell_type": "markdown",
   "metadata": {
    "pycharm": {
     "name": "#%% md\n"
    }
   },
   "source": [
    "## Create and train the neural network"
   ]
  },
  {
   "cell_type": "code",
   "execution_count": 11,
   "metadata": {
    "pycharm": {
     "name": "#%%\n"
    }
   },
   "outputs": [
    {
     "name": "stdout",
     "output_type": "stream",
     "text": [
      "Epoch 1/10\n",
      "1090/1090 [==============================] - 5s 4ms/step - loss: 0.7507 - val_loss: 0.4689\n",
      "Epoch 2/10\n",
      "1090/1090 [==============================] - 3s 3ms/step - loss: 0.4520 - val_loss: 0.3947\n",
      "Epoch 3/10\n",
      "1090/1090 [==============================] - 3s 3ms/step - loss: 0.3924 - val_loss: 0.3725\n",
      "Epoch 4/10\n",
      "1090/1090 [==============================] - 3s 3ms/step - loss: 0.3761 - val_loss: 0.3618\n",
      "Epoch 5/10\n",
      "1090/1090 [==============================] - 3s 3ms/step - loss: 0.3653 - val_loss: 0.3540\n",
      "Epoch 6/10\n",
      "1090/1090 [==============================] - 3s 3ms/step - loss: 0.3594 - val_loss: 0.3522\n",
      "Epoch 7/10\n",
      "1090/1090 [==============================] - 3s 3ms/step - loss: 0.3563 - val_loss: 0.3481\n",
      "Epoch 8/10\n",
      "1090/1090 [==============================] - 3s 3ms/step - loss: 0.3532 - val_loss: 0.3386\n",
      "Epoch 9/10\n",
      "1090/1090 [==============================] - 3s 3ms/step - loss: 0.3423 - val_loss: 0.3347\n",
      "Epoch 10/10\n",
      "1090/1090 [==============================] - 3s 3ms/step - loss: 0.3419 - val_loss: 0.3344\n"
     ]
    },
    {
     "data": {
      "text/plain": [
       "<tensorflow.python.keras.callbacks.History at 0x257b2628550>"
      ]
     },
     "execution_count": 11,
     "metadata": {},
     "output_type": "execute_result"
    }
   ],
   "source": [
    "model = tf.keras.Sequential([\n",
    "    tf.keras.layers.Dense(32, activation='linear'),\n",
    "    tf.keras.layers.Dense(64, activation='linear'),\n",
    "    tf.keras.layers.Dense(128, activation='linear'),\n",
    "    tf.keras.layers.Dense(256, activation='linear'),\n",
    "    tf.keras.layers.Dense(128, activation='linear'),\n",
    "    tf.keras.layers.Dense(64, activation='linear'),\n",
    "    tf.keras.layers.Dense(32, activation='linear')\n",
    "])\n",
    "model.compile(optimizer='sgd', loss=losses.MeanSquaredError())\n",
    "# model.compile(optimizer='sgd', loss=losses.CosineSimilarity(axis=1))\n",
    "\n",
    "\n",
    "model.fit(x_train, y_train,\n",
    "          epochs=10,\n",
    "          batch_size=256,\n",
    "          shuffle=True,\n",
    "          validation_data=(x_test, y_test))"
   ]
  },
  {
   "cell_type": "markdown",
   "metadata": {
    "pycharm": {
     "name": "#%% md\n"
    }
   },
   "source": [
    "## Compare the output-SNR of the neural network with the baseline"
   ]
  },
  {
   "cell_type": "code",
   "execution_count": 12,
   "metadata": {
    "pycharm": {
     "name": "#%%\n"
    }
   },
   "outputs": [
    {
     "data": {
      "text/plain": [
       "<matplotlib.legend.Legend at 0x257b3214be0>"
      ]
     },
     "execution_count": 12,
     "metadata": {},
     "output_type": "execute_result"
    },
    {
     "data": {
      "image/png": "[encoded data removed]",
      "text/plain": [
       "<Figure size 432x288 with 1 Axes>"
      ]
     },
     "metadata": {
      "needs_background": "light"
     },
     "output_type": "display_data"
    }
   ],
   "source": [
    "# Use the NN to predict the new data\n",
    "pred = model(scale_in.transform(X)).numpy()\n",
    "\n",
    "# Find the complex data\n",
    "pred = pred[:, :16] + 1j * pred[:, 16:]\n",
    "pred = pred.reshape(nx, nsnr, nrx)\n",
    "\n",
    "# Baseline data\n",
    "base = y_rffe.reshape(nx, nsnr, nrx)\n",
    "\n",
    "# Baseline data\n",
    "gold = y_ant.reshape(nx, nsnr, nrx)\n",
    "\n",
    "pred_snr = np.zeros(nsnr)\n",
    "base_snr = np.zeros(nsnr)\n",
    "gold_snr = np.zeros(nsnr)\n",
    "\n",
    "for isnr in range(nsnr):\n",
    "    pred_snr[isnr] = snr(pred[:, isnr, :])\n",
    "    base_snr[isnr] = snr(base[:, isnr, :])\n",
    "    gold_snr[isnr] = snr(gold[:, isnr, :])\n",
    "\n",
    "plt.plot(power_in, base_snr, 'bs')\n",
    "plt.plot(power_in, pred_snr, 'rd')\n",
    "plt.plot(power_in, gold_snr, 'gx')\n",
    "plt.grid()\n",
    "plt.xlabel('Receive power per antenna [dBm]')\n",
    "plt.ylabel('Output SNR $\\;(\\gamma_\\mathrm{out})\\;$ [dB]')\n",
    "plt.legend(['Reference', 'DNN', 'Genie'])"
   ]
  },
  {
   "cell_type": "code",
   "execution_count": null,
   "metadata": {},
   "outputs": [],
   "source": []
  }
 ],
 "metadata": {
  "kernelspec": {
   "display_name": "Python [conda env:tfgpu] *",
   "language": "python",
   "name": "conda-env-tfgpu-py"
  },
  "language_info": {
   "codemirror_mode": {
    "name": "ipython",
    "version": 3
   },
   "file_extension": ".py",
   "mimetype": "text/x-python",
   "name": "python",
   "nbconvert_exporter": "python",
   "pygments_lexer": "ipython3",
   "version": "3.8.5"
  }
 },
 "nbformat": 4,
 "nbformat_minor": 1
}
